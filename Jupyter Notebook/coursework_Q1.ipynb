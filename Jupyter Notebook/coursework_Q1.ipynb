{
 "cells": [
  {
   "attachments": {},
   "cell_type": "markdown",
   "metadata": {},
   "source": [
    "# Setting up the workspace"
   ]
  },
  {
   "attachments": {},
   "cell_type": "markdown",
   "metadata": {},
   "source": [
    "## Importing the necessary modules"
   ]
  },
  {
   "cell_type": "code",
   "execution_count": null,
   "metadata": {},
   "outputs": [],
   "source": [
    "import sqlite3\n",
    "import pandas as pd\n",
    "import os\n",
    "import matplotlib.pyplot as plt\n",
    "import seaborn as sns"
   ]
  },
  {
   "cell_type": "markdown",
   "metadata": {},
   "source": [
    "## Setting working directory"
   ]
  },
  {
   "cell_type": "code",
   "execution_count": null,
   "metadata": {},
   "outputs": [],
   "source": [
    "os.chdir('/Users/lewyiliang/Library/CloudStorage/OneDrive-SIM-SingaporeInstituteofManagement/Year 2/ST2195 - Programming for Data Science/Coursework/dataverse_files')\n",
    "os.getcwd()  # Prints the current working directory"
   ]
  },
  {
   "cell_type": "markdown",
   "metadata": {},
   "source": [
    "## Setting up the coursework_py database "
   ]
  },
  {
   "cell_type": "code",
   "execution_count": null,
   "metadata": {},
   "outputs": [],
   "source": [
    "os.remove(\"coursework_py.db\")"
   ]
  },
  {
   "cell_type": "code",
   "execution_count": null,
   "metadata": {},
   "outputs": [],
   "source": [
    "conn = sqlite3.connect('/Users/lewyiliang/Library/CloudStorage/OneDrive-SIM-SingaporeInstituteofManagement/Year 2/ST2195 - Programming for Data Science/Coursework/dataverse_files/coursework_py.db')"
   ]
  },
  {
   "cell_type": "markdown",
   "metadata": {},
   "source": [
    "## Creating tables in the database"
   ]
  },
  {
   "cell_type": "code",
   "execution_count": null,
   "metadata": {},
   "outputs": [],
   "source": [
    "# Loading files needed\n",
    "airports = pd.read_csv(\"airports.csv\", header=0)\n",
    "carriers = pd.read_csv(\"carriers.csv\", header=0)\n",
    "planes = pd.read_csv(\"plane-data.csv\", header=0)\n",
    "\n",
    "planes = pd.read_csv(\"plane-data.csv\", header=0)\n",
    "ontime_2005 = pd.read_csv(\"2005.csv.bz2\", header=0, compression='bz2')\n",
    "ontime_2006 = pd.read_csv(\"2006.csv.bz2\", header=0, compression='bz2')\n",
    "ontime_2007 = pd.read_csv(\"2007.csv.bz2\", header=0, compression='bz2')"
   ]
  },
  {
   "cell_type": "code",
   "execution_count": null,
   "metadata": {},
   "outputs": [],
   "source": [
    "# Using concat method to merge 2005-2007 flight data into one variable\n",
    "ontime_all = pd.concat([ontime_2005, ontime_2006, ontime_2007], ignore_index=True)\n",
    "print(ontime_all.shape) # Dataset has 21735733 rows, 29 columns"
   ]
  },
  {
   "attachments": {},
   "cell_type": "markdown",
   "metadata": {},
   "source": [
    "## Importing data frames to coursework_r.db "
   ]
  },
  {
   "cell_type": "code",
   "execution_count": null,
   "metadata": {},
   "outputs": [],
   "source": [
    "airports.to_sql('airports', con = conn, if_exists='replace', index = False)"
   ]
  },
  {
   "cell_type": "code",
   "execution_count": null,
   "metadata": {},
   "outputs": [],
   "source": [
    "carriers.to_sql('carriers', con = conn, if_exists='replace', index = False)"
   ]
  },
  {
   "cell_type": "code",
   "execution_count": null,
   "metadata": {},
   "outputs": [],
   "source": [
    "planes.to_sql('planes', con = conn, if_exists='replace', index = False)"
   ]
  },
  {
   "cell_type": "code",
   "execution_count": null,
   "metadata": {},
   "outputs": [],
   "source": [
    "ontime_all.to_sql('ontime', con = conn, if_exists='replace', index = False)"
   ]
  },
  {
   "attachments": {},
   "cell_type": "markdown",
   "metadata": {},
   "source": [
    "# Data Wrangling"
   ]
  },
  {
   "cell_type": "code",
   "execution_count": null,
   "metadata": {},
   "outputs": [],
   "source": [
    "c = conn.cursor()"
   ]
  },
  {
   "attachments": {},
   "cell_type": "markdown",
   "metadata": {},
   "source": [
    "## Identifying anomalies in the \"ontime\" table"
   ]
  },
  {
   "cell_type": "code",
   "execution_count": null,
   "metadata": {},
   "outputs": [],
   "source": [
    "ontime_DepTime_check = pd.read_sql_query(\"SELECT DepTime FROM ontime WHERE DepTime > 2359 ORDER BY DepTime DESC\", conn)\n",
    "print(ontime_DepTime_check.shape[0]) # 4250 DepTime > 2359\n",
    "\n",
    "ontime_ArrTime_check = pd.read_sql_query(\"SELECT ArrTime FROM ontime WHERE ArrTime > 2359 ORDER BY ArrTime DESC\", conn)\n",
    "print(ontime_ArrTime_check.shape[0]) # 18406 ArrTime > 2359\n",
    "\n",
    "ontime_CRSArrTime_check = pd.read_sql_query(\"SELECT CRSArrTime FROM ontime WHERE CRSArrTime > 2359 ORDER BY CRSArrTime DESC\", conn)\n",
    "print(ontime_CRSArrTime_check.shape[0]) # 726 CRSTime > 2359"
   ]
  },
  {
   "attachments": {},
   "cell_type": "markdown",
   "metadata": {},
   "source": [
    "## Dealing with the anomalies and updating the values in the table in the SQL database directly"
   ]
  },
  {
   "cell_type": "code",
   "execution_count": null,
   "metadata": {},
   "outputs": [],
   "source": [
    "c.execute(\"UPDATE ontime SET DepTime = DepTime - 2400 WHERE DepTime > 2359\")\n",
    "print(c.rowcount) # 4250 records updated\n",
    "\n",
    "c.execute(\"UPDATE ontime SET ArrTime = ArrTime - 2400 WHERE ArrTime > 2359\")\n",
    "print(c.rowcount) # 18406 records updated\n",
    "\n",
    "c.execute(\"UPDATE ontime SET CRSArrTime = CRSArrTime - 2400 WHERE CRSArrTime > 2359\")\n",
    "print(c.rowcount) # 726 records updated"
   ]
  },
  {
   "attachments": {},
   "cell_type": "markdown",
   "metadata": {},
   "source": [
    "# Q1. When is the best time of day, day of the week, and time of year to fly to minimise delays?"
   ]
  },
  {
   "attachments": {},
   "cell_type": "markdown",
   "metadata": {},
   "source": [
    "## Part 1: Best time of day to fly to minimise delays"
   ]
  },
  {
   "attachments": {},
   "cell_type": "markdown",
   "metadata": {},
   "source": [
    "### Categorizing flights in the 'ontime' table by the scheduled departure time by intervals of 2 hours"
   ]
  },
  {
   "cell_type": "code",
   "execution_count": null,
   "metadata": {},
   "outputs": [],
   "source": [
    "# Adding a new column named \"DepTimeInterval\"\n",
    "c.execute(\"ALTER TABLE ontime ADD DepTimeInterval\")\n",
    "conn.commit()"
   ]
  },
  {
   "cell_type": "code",
   "execution_count": null,
   "metadata": {},
   "outputs": [],
   "source": [
    "# Grouping the respective departure times to the corresponding departure time interval (in 2-hour intervals)\n",
    "c.execute(\"\"\"\n",
    "          UPDATE ontime \n",
    "          SET DepTimeInterval = CASE\n",
    "            WHEN CRSDepTime BETWEEN 0 AND 199 THEN '00.00-01.59' \n",
    "            WHEN CRSDepTime BETWEEN 200 AND 399 THEN '02.00-03.59' \n",
    "            WHEN CRSDepTime BETWEEN 400 AND 599 THEN '04.00-05.59' \n",
    "            WHEN CRSDepTime BETWEEN 600 AND 799 THEN '06.00-07.59' \n",
    "            WHEN CRSDepTime BETWEEN 800 AND 999 THEN '08.00-09.59' \n",
    "            WHEN CRSDepTime BETWEEN 1000 AND 1199 THEN '10.00-11.59' \n",
    "            WHEN CRSDepTime BETWEEN 1200 AND 1399 THEN '12.00-13.59' \n",
    "            WHEN CRSDepTime BETWEEN 1400 AND 1599 THEN '14.00-15.59' \n",
    "            WHEN CRSDepTime BETWEEN 1600 AND 1799 THEN '16.00-17.59' \n",
    "            WHEN CRSDepTime BETWEEN 1800 AND 1999 THEN '18.00-19.59' \n",
    "            WHEN CRSDepTime BETWEEN 2000 AND 2199 THEN '20.00-21.59' \n",
    "            WHEN CRSDepTime BETWEEN 2200 AND 2399 THEN '22.00-23.59' \n",
    "            ELSE NULL\n",
    "          END\n",
    "          \"\"\")\n",
    "conn.commit()\n",
    "print(c.rowcount) # Dataset has 21735733 rows, thus the row count should tally"
   ]
  },
  {
   "attachments": {},
   "cell_type": "markdown",
   "metadata": {},
   "source": [
    "#### Looking at the distribution of flights for each departure time interval"
   ]
  },
  {
   "cell_type": "code",
   "execution_count": null,
   "metadata": {},
   "outputs": [],
   "source": [
    "# Distribution of flights for each departure time interval\n",
    "interval_overview = pd.read_sql_query(\"\"\"\n",
    "                                      SELECT DepTimeInterval, COUNT(*) AS NumOfFlights \n",
    "                                      FROM ontime\n",
    "                                      GROUP BY DepTimeInterval\"\"\", conn)"
   ]
  },
  {
   "cell_type": "code",
   "execution_count": null,
   "metadata": {},
   "outputs": [],
   "source": [
    "display(interval_overview)"
   ]
  },
  {
   "cell_type": "code",
   "execution_count": null,
   "metadata": {},
   "outputs": [],
   "source": [
    "# Obtaining the average arrival delay for each departure time interval\n",
    "q1p1a = pd.read_sql(\"\"\"\n",
    "                    SELECT DepTimeInterval, AVG(ArrDelay) AS AvgArrDelay \n",
    "                    FROM ontime \n",
    "                    WHERE Cancelled = 0 AND Diverted = 0 \n",
    "                    GROUP BY DepTimeInterval \n",
    "                    ORDER BY DepTimeInterval\n",
    "                    \"\"\", conn)"
   ]
  },
  {
   "cell_type": "code",
   "execution_count": null,
   "metadata": {},
   "outputs": [],
   "source": [
    "# Changing the column names of q1p1a\n",
    "q1p1a.columns = [\"Departure Time Interval\", \"Average Arrival Delay\"]\n",
    "\n",
    "# Printing the output of q1p1a\n",
    "display(q1p1a)"
   ]
  },
  {
   "cell_type": "code",
   "execution_count": null,
   "metadata": {},
   "outputs": [],
   "source": [
    "# Plot of average arrival delay of flights by departure time interval\n",
    "fig, ax = plt.subplots()\n",
    "q1p1a.plot(kind=\"bar\", x=\"Departure Time Interval\", y=\"Average Arrival Delay\", color=\"#90d2d8\", ax=ax, width=0.8, edgecolor=\"black\", legend=None)\n",
    "q1p1a.plot(x=\"Departure Time Interval\", y=\"Average Arrival Delay\", color=\"black\", ax=ax, legend=None)\n",
    "q1p1a.plot(kind=\"scatter\", x=\"Departure Time Interval\", y=\"Average Arrival Delay\", color=\"#e1ff00\", s=25, edgecolor=\"black\", ax=ax)\n",
    "ax.set(title=\"Figure 1.1a: Average Arrival Delay of Flights\", xlabel=\"Departure Time Interval (24hr)\", ylabel=\"Average Arrival Delay (in mins)\")\n",
    "ax.set_title(\"Figure 1.1a: Average Arrival Delay of Flights\", fontweight=\"bold\")\n",
    "ax.set_ylim(-0.15, 18)\n",
    "plt.xticks(rotation=20, ha=\"right\")\n",
    "\n",
    "for i, r in q1p1a.iterrows():\n",
    "    ax.text(i, r[\"Average Arrival Delay\"] + 0.5, round(r[\"Average Arrival Delay\"], 1), ha=\"center\", fontsize=8)"
   ]
  },
  {
   "cell_type": "code",
   "execution_count": null,
   "metadata": {},
   "outputs": [],
   "source": [
    "# To obtain the percentage of cancelled, diverted, delayed and on-time performance for flights\n",
    "q1p1b = pd.read_sql(\"\"\"\n",
    "                    SELECT DepTimeInterval, (AVG(Cancelled)*100) AS AvgCnl_perc, (AVG(Diverted)*100) AS AvgDiv_perc, \n",
    "                        ((CAST(SUM(CASE WHEN ArrDelay > 0 THEN 1 ELSE 0 END) AS FLOAT)/CAST(COUNT(*) AS FLOAT))*100) AS AvgArrDelay_perc, \n",
    "                        ((CAST(SUM(CASE WHEN ArrDelay <= 15 THEN 1 ELSE 0 END) AS FLOAT)/CAST(COUNT(*) AS FLOAT))*100) AS on_time_performance \n",
    "                    FROM ontime \n",
    "                    GROUP BY DepTimeInterval \n",
    "                    ORDER BY DepTimeInterval\"\"\", conn)"
   ]
  },
  {
   "cell_type": "code",
   "execution_count": null,
   "metadata": {},
   "outputs": [],
   "source": [
    "# Changing the column names of q1p1b\n",
    "q1p1b.columns = [\"Departure Time Interval\", \"% of Cancelled Flights\", \"% of Diverted Flights\", \"% of Delayed Flights\", \"On-Time Performance in %\"]\n",
    "\n",
    "# Printing the output of q1p1b\n",
    "display(q1p1b)"
   ]
  },
  {
   "cell_type": "code",
   "execution_count": null,
   "metadata": {},
   "outputs": [],
   "source": [
    "# Bar chart for percentage of cancelled flights\n",
    "fig, ax = plt.subplots()\n",
    "q1p1b.plot(kind=\"bar\", x=\"Departure Time Interval\", y=\"% of Cancelled Flights\", color=\"#ffecb8\", ax=ax, width=0.8, edgecolor=\"black\", legend=None)\n",
    "q1p1b.plot(x=\"Departure Time Interval\", y=\"% of Cancelled Flights\", color=\"black\", ax=ax, legend=None)\n",
    "q1p1b.plot(kind=\"scatter\", x=\"Departure Time Interval\", y=\"% of Cancelled Flights\", color=\"#e1ff00\", s=25, edgecolor=\"black\", ax=ax)\n",
    "ax.set(title=\"Figure 1.1b: % of Cancelled Flights by Time of Day\", xlabel=\"Departure Time Interval (24hr)\", ylabel=\"Cancelled Flights (in %)\")\n",
    "ax.set_title(\"Figure 1.1b: % of Cancelled Flights by Time of Day\", fontweight=\"bold\")\n",
    "ax.set_ylim(0, 2.75)\n",
    "plt.xticks(rotation=20, ha=\"right\")\n",
    "\n",
    "for i, r in q1p1b.iterrows():\n",
    "    ax.text(i, r[\"% of Cancelled Flights\"] + 0.05, f\"{round(r['% of Cancelled Flights'], 2)}%\", ha=\"center\", fontsize=8)"
   ]
  },
  {
   "cell_type": "code",
   "execution_count": null,
   "metadata": {},
   "outputs": [],
   "source": [
    "# Bar chart for percentage of delayed flights\n",
    "fig, ax = plt.subplots()\n",
    "ax.bar(x=q1p1b['Departure Time Interval'], height=q1p1b['% of Delayed Flights'], color=\"#f6a6b2\", width=0.8, edgecolor=\"black\")\n",
    "ax.plot(q1p1b['Departure Time Interval'], q1p1b['% of Delayed Flights'], color=\"black\")\n",
    "ax.scatter(x=q1p1b['Departure Time Interval'], y=q1p1b['% of Delayed Flights'], color=\"#e1ff00\", s=25, edgecolor=\"black\")\n",
    "ax.set(title=\"Figure 1.1c: % of Delayed Flights by Time of Day\", xlabel=\"Departure Time Interval (24hr)\", ylabel=\"Delayed Flights (in %)\")\n",
    "ax.set_title(\"Figure 1.1c: % of Delayed Flights by Time of Day\", fontweight=\"bold\")\n",
    "ax.set_ylim(0, 57.23)\n",
    "plt.xticks(rotation=20, ha=\"right\")\n",
    "\n",
    "for i, r in q1p1b.iterrows():\n",
    "    ax.text(i, r[\"% of Delayed Flights\"] + 0.5, f\"{round(r['% of Delayed Flights'], 2)}%\", ha=\"center\", fontsize=8)"
   ]
  },
  {
   "cell_type": "code",
   "execution_count": null,
   "metadata": {},
   "outputs": [],
   "source": [
    "# Bar chart for on-time performance of flights in percentage\n",
    "    # On-time performance measures punctuality within 15 minutes of the scheduled arrival time\n",
    "fig, ax = plt.subplots()\n",
    "ax.bar(x=q1p1b['Departure Time Interval'], height=q1p1b['On-Time Performance in %'], color=\"#b7ded2\", width=0.8, edgecolor=\"black\")\n",
    "ax.plot(q1p1b['Departure Time Interval'], q1p1b['On-Time Performance in %'], color=\"black\")\n",
    "ax.scatter(x=q1p1b['Departure Time Interval'], y=q1p1b['On-Time Performance in %'], color=\"#e1ff00\", s=25, edgecolor=\"black\")\n",
    "ax.set(title=\"Figure 1.1d: On-time Performance (%) by Time of Day\", xlabel=\"Departure Time Interval (24hr)\", ylabel=\"On-time Performance (in %)\")\n",
    "ax.set_title(\"Figure 1.1d: On-time Performance (%) by Time of Day\", fontweight=\"bold\")\n",
    "ax.set_ylim(0, 95.4)\n",
    "plt.xticks(rotation=20, ha=\"right\")\n",
    "\n",
    "for i, r in q1p1b.iterrows():\n",
    "    ax.text(i, r[\"On-Time Performance in %\"] + 1, f\"{round(r['On-Time Performance in %'], 2)}%\", ha=\"center\", fontsize=8)"
   ]
  },
  {
   "cell_type": "code",
   "execution_count": null,
   "metadata": {},
   "outputs": [],
   "source": [
    "# Bar chart for percentage of diverted flights \n",
    "    # Note: This chart was not included in the report as values were negligible\n",
    "fig, ax = plt.subplots()\n",
    "q1p1b.plot(kind=\"bar\", x=\"Departure Time Interval\", y=\"% of Diverted Flights\", color=\"#f7c297\", ax=ax, width=0.8, edgecolor=\"black\", legend=None)\n",
    "q1p1b.plot(x=\"Departure Time Interval\", y=\"% of Diverted Flights\", color=\"black\", ax=ax, legend=None)\n",
    "q1p1b.plot(kind=\"scatter\", x=\"Departure Time Interval\", y=\"% of Diverted Flights\", color=\"#e1ff00\", s=25, edgecolor=\"black\", ax=ax)\n",
    "ax.set(title=\"Figure 1.1e: % of Diverted Flights by Time of Day\", xlabel=\"Departure Time Interval (24hr)\", ylabel=\"Diverted Flights (in %)\")\n",
    "ax.set_title(\"Figure 1.1e: % of Diverted Flights by Time of Day\", fontweight=\"bold\")\n",
    "ax.set_ylim(0, 0.286)\n",
    "plt.xticks(rotation=20, ha=\"right\")\n",
    "\n",
    "for i, r in q1p1b.iterrows():\n",
    "    ax.text(i, r[\"% of Diverted Flights\"] + 0.005, f\"{round(r['% of Diverted Flights'], 2)}%\", ha=\"center\", fontsize=8)"
   ]
  },
  {
   "attachments": {},
   "cell_type": "markdown",
   "metadata": {},
   "source": [
    "## Part 2: Best day of week to fly to minimise delays"
   ]
  },
  {
   "attachments": {},
   "cell_type": "markdown",
   "metadata": {},
   "source": [
    "### Categorizing flights in the 'ontime' table by the seasons"
   ]
  },
  {
   "cell_type": "code",
   "execution_count": null,
   "metadata": {},
   "outputs": [],
   "source": [
    "# Adding a new column in the \"ontime\" table named \"Season\"\n",
    "c.execute(\"ALTER TABLE ontime ADD Season\")\n",
    "conn.commit()"
   ]
  },
  {
   "cell_type": "code",
   "execution_count": null,
   "metadata": {},
   "outputs": [],
   "source": [
    "# Grouping the respective months to the corresponding season\n",
    "c.execute(\"\"\"\n",
    "    UPDATE ontime \n",
    "    SET Season = CASE \n",
    "        WHEN Month BETWEEN 3 AND 5 THEN 'Spring'\n",
    "        WHEN Month BETWEEN 6 AND 8 THEN 'Summer'\n",
    "        WHEN Month BETWEEN 9 AND 11 THEN 'Autumn'\n",
    "        ELSE 'Winter'\n",
    "    END\n",
    "\"\"\")\n",
    "conn.commit()"
   ]
  },
  {
   "cell_type": "code",
   "execution_count": null,
   "metadata": {},
   "outputs": [],
   "source": [
    "# Obtaining the average arrival delay for each day of week and season\n",
    "q1p2a = pd.read_sql_query(\"\"\"\n",
    "                          SELECT Season, DayOfWeek, AVG(ArrDelay) AS AvgArrDelay \n",
    "                          FROM ontime \n",
    "                          WHERE Cancelled = 0 AND Diverted = 0 \n",
    "                          GROUP BY Season, DayOfWeek \n",
    "                          ORDER BY AvgArrDelay\n",
    "                          \"\"\", conn)"
   ]
  },
  {
   "cell_type": "code",
   "execution_count": null,
   "metadata": {},
   "outputs": [],
   "source": [
    "# Changing the column names of q1p2a\n",
    "q1p2a.columns = [\"Season\", \"Day of Week\", \"Average Arrival Delay\"]\n",
    "\n",
    "# Converting 'Season' column to categorical data type\n",
    "q1p2a['Season'] = pd.Categorical(q1p2a['Season'], categories=['Spring', 'Summer', 'Autumn', 'Winter'])\n",
    "\n",
    "# Printing the output of q1p2a\n",
    "display(q1p2a)"
   ]
  },
  {
   "cell_type": "code",
   "execution_count": null,
   "metadata": {},
   "outputs": [],
   "source": [
    "# Plot of average arrival delay of flights by day of week and season\n",
    "g = sns.catplot(x='Day of Week', y='Average Arrival Delay', hue='Season', kind='bar', data=q1p2a, \n",
    "                palette={'Spring': '#00FF7F', 'Summer': '#FFD700', 'Autumn': '#FFA500', 'Winter': '#87CEEB'},\n",
    "                height=4, aspect=1.5, col='Season', col_order=['Spring', 'Summer', 'Autumn', 'Winter'],\n",
    "                sharey=False)\n",
    "g.despine(left=True)\n",
    "g.set_axis_labels(\"Day of Week\", \"Average Arrival Delay (in mins)\")\n",
    "g.fig.suptitle('Figure 1.2a: Average Arrival Delay by Day of Week and Season', fontsize=16, fontweight='bold', y=1.05)\n",
    "plt.legend(loc='upper center', bbox_to_anchor=(0.5, -0.2), ncol=5)\n",
    "\n",
    "# add horizontal dashed lines for average delay for each season\n",
    "for ax, (season, data) in zip(g.axes.flat, q1p2a.groupby('Season')):\n",
    "    avg_delay = data['Average Arrival Delay'].mean()\n",
    "    ax.axhline(y=avg_delay, linestyle='--', color='red')\n",
    "\n",
    "# set x-tick labels\n",
    "g.set_xticklabels(['Mon', 'Tue', 'Wed', 'Thu', 'Fri', 'Sat', 'Sun'])\n",
    "\n",
    "plt.show()"
   ]
  },
  {
   "cell_type": "code",
   "execution_count": null,
   "metadata": {},
   "outputs": [],
   "source": [
    "# To obtain the percentage of cancelled, diverted, delayed and on-time performance for flights\n",
    "q1p2b = pd.read_sql_query(\"\"\"\n",
    "                          SELECT Season, DayOfWeek, (AVG(Cancelled)*100) AS AvgCnl_perc, (AVG(Diverted)*100) AS AvgDiv_perc, \n",
    "                            ((CAST(SUM(CASE WHEN ArrDelay > 0 THEN 1 ELSE 0 END) AS FLOAT)/CAST(COUNT(*) AS FLOAT))*100) AS AvgArrDelay_perc, \n",
    "                            ((CAST(SUM(CASE WHEN ArrDelay <= 15 THEN 1 ELSE 0 END) AS FLOAT)/CAST(COUNT(*) AS FLOAT))*100) AS on_time_performance \n",
    "                          FROM ontime \n",
    "                          GROUP BY Season, DayOfWeek \n",
    "                          ORDER BY DayOfWeek, Season\n",
    "                          \"\"\", conn)"
   ]
  },
  {
   "cell_type": "code",
   "execution_count": null,
   "metadata": {},
   "outputs": [],
   "source": [
    "# Changing the column names of q1p2b\n",
    "q1p2b.columns = [\"Season\", \"Day of Week\", \"% of Cancelled Flights\", \"% of Diverted Flights\", \"% of Delayed Flights\", \"On-time Performance in %\"]\n",
    "\n",
    "# Converting 'Season' column to categorical data type\n",
    "q1p2b[\"Season\"] = pd.Categorical(q1p2b[\"Season\"], categories=[\"Spring\", \"Summer\", \"Autumn\", \"Winter\"])\n",
    "\n",
    "# Printing the output of q1p2b\n",
    "display(q1p2b)"
   ]
  },
  {
   "cell_type": "code",
   "execution_count": null,
   "metadata": {},
   "outputs": [],
   "source": [
    "# Bar chart for percentage of cancelled flights \n",
    "g = sns.catplot(x='Day of Week', y='% of Cancelled Flights', hue='Season', kind='bar', data=q1p2b, \n",
    "                palette={'Spring': '#00FF7F', 'Summer': '#FFD700', 'Autumn': '#FFA500', 'Winter': '#87CEEB'},\n",
    "                height=4, aspect=1.5, col='Season', col_order=['Spring', 'Summer', 'Autumn', 'Winter'],\n",
    "                sharey=False)\n",
    "g.despine(left=True)\n",
    "g.set_axis_labels(\"Day of Week\", \"Cancelled Flights (in %)\")\n",
    "g.fig.suptitle('Figure 1.2b: Cancelled Flights (in %) by Day of Week and Season', fontsize=16, fontweight='bold', y=1.05)\n",
    "plt.legend(loc='upper center', bbox_to_anchor=(0.5, -0.2), ncol=5)\n",
    "\n",
    "# add horizontal dashed lines for average delay for each season\n",
    "for ax, (season, data) in zip(g.axes.flat, q1p2b.groupby('Season')):\n",
    "    avg_delay = data['% of Cancelled Flights'].mean()\n",
    "    ax.axhline(y=avg_delay, linestyle='--', color='red')\n",
    "\n",
    "# set x-tick labels\n",
    "g.set_xticklabels(['Mon', 'Tue', 'Wed', 'Thu', 'Fri', 'Sat', 'Sun'])\n",
    "\n",
    "plt.show()"
   ]
  },
  {
   "cell_type": "code",
   "execution_count": null,
   "metadata": {},
   "outputs": [],
   "source": [
    "# Bar chart for percentage of delayed flights \n",
    "g = sns.catplot(x='Day of Week', y='% of Delayed Flights', hue='Season', kind='bar', data=q1p2b, \n",
    "                palette={'Spring': '#00FF7F', 'Summer': '#FFD700', 'Autumn': '#FFA500', 'Winter': '#87CEEB'},\n",
    "                height=4, aspect=1.5, col='Season', col_order=['Spring', 'Summer', 'Autumn', 'Winter'],\n",
    "                sharey=False)\n",
    "g.despine(left=True)\n",
    "g.set_axis_labels(\"Day of Week\", \"Delayed Flights (in %)\")\n",
    "g.fig.suptitle('Figure 1.2c: Delayed Flights (in %) by Day of Week and Season', fontsize=16, fontweight='bold', y=1.05)\n",
    "plt.legend(loc='upper center', bbox_to_anchor=(0.5, -0.2), ncol=5)\n",
    "\n",
    "# add horizontal dashed lines for average delay for each season\n",
    "for ax, (season, data) in zip(g.axes.flat, q1p2b.groupby('Season')):\n",
    "    avg_delay = data['% of Delayed Flights'].mean()\n",
    "    ax.axhline(y=avg_delay, linestyle='--', color='red')\n",
    "\n",
    "# set x-tick labels\n",
    "g.set_xticklabels(['Mon', 'Tue', 'Wed', 'Thu', 'Fri', 'Sat', 'Sun'])\n",
    "\n",
    "plt.show()"
   ]
  },
  {
   "cell_type": "code",
   "execution_count": null,
   "metadata": {},
   "outputs": [],
   "source": [
    "# Bar chart for on-time performance of flights in percentage\n",
    "g = sns.catplot(x='Day of Week', y='On-time Performance in %', hue='Season', kind='bar', data=q1p2b, \n",
    "                palette={'Spring': '#00FF7F', 'Summer': '#FFD700', 'Autumn': '#FFA500', 'Winter': '#87CEEB'},\n",
    "                height=4, aspect=1.5, col='Season', col_order=['Spring', 'Summer', 'Autumn', 'Winter'],\n",
    "                sharey=False)\n",
    "g.despine(left=True)\n",
    "g.set_axis_labels(\"Day of Week\", \"On-time Performance (in %)\")\n",
    "g.fig.suptitle('Figure 1.2d: On-time Performance (in %) by Day of Week and Season', fontsize=16, fontweight='bold', y=1.05)\n",
    "plt.legend(loc='upper center', bbox_to_anchor=(0.5, -0.2), ncol=5)\n",
    "\n",
    "# add horizontal dashed lines for average delay for each season\n",
    "for ax, (season, data) in zip(g.axes.flat, q1p2b.groupby('Season')):\n",
    "    avg_delay = data['On-time Performance in %'].mean()\n",
    "    ax.axhline(y=avg_delay, linestyle='--', color='red')\n",
    "\n",
    "# set x-tick labels\n",
    "g.set_xticklabels(['Mon', 'Tue', 'Wed', 'Thu', 'Fri', 'Sat', 'Sun'])\n",
    "\n",
    "plt.show()"
   ]
  },
  {
   "cell_type": "code",
   "execution_count": null,
   "metadata": {},
   "outputs": [],
   "source": [
    "# Bar chart for percentage of diverted flights \n",
    "g = sns.catplot(x='Day of Week', y='% of Diverted Flights', hue='Season', kind='bar', data=q1p2b, \n",
    "                palette={'Spring': '#00FF7F', 'Summer': '#FFD700', 'Autumn': '#FFA500', 'Winter': '#87CEEB'},\n",
    "                height=4, aspect=1.5, col='Season', col_order=['Spring', 'Summer', 'Autumn', 'Winter'],\n",
    "                sharey=False)\n",
    "g.despine(left=True)\n",
    "g.set_axis_labels(\"Day of Week\", \"Diverted Flights (in %)\")\n",
    "g.fig.suptitle('Figure 1.2e: Diverted Flights (in %) by Day of Week and Season', fontsize=16, fontweight='bold', y=1.05)\n",
    "plt.legend(loc='upper center', bbox_to_anchor=(0.5, -0.2), ncol=5)\n",
    "\n",
    "# add horizontal dashed lines for average delay for each season\n",
    "for ax, (season, data) in zip(g.axes.flat, q1p2b.groupby('Season')):\n",
    "    avg_delay = data['% of Diverted Flights'].mean()\n",
    "    ax.axhline(y=avg_delay, linestyle='--', color='red')\n",
    "\n",
    "# set x-tick labels\n",
    "g.set_xticklabels(['Mon', 'Tue', 'Wed', 'Thu', 'Fri', 'Sat', 'Sun'])\n",
    "\n",
    "plt.show()"
   ]
  },
  {
   "cell_type": "markdown",
   "metadata": {},
   "source": [
    "### Part 3: Best time of year to fly to minimise delays"
   ]
  },
  {
   "cell_type": "code",
   "execution_count": null,
   "metadata": {},
   "outputs": [],
   "source": [
    "# Obtaining the average arrival delay for each month and season\n",
    "q1p3a = pd.read_sql_query(\"\"\"\n",
    "                          SELECT Season, Month, AVG(ArrDelay) AS AvgArrDelay \n",
    "                          FROM ontime \n",
    "                          WHERE Cancelled = 0 AND Diverted = 0 \n",
    "                          GROUP BY Season, Month \n",
    "                          ORDER BY Month, Season\n",
    "                          \"\"\", conn)"
   ]
  },
  {
   "cell_type": "code",
   "execution_count": null,
   "metadata": {},
   "outputs": [],
   "source": [
    "# Changing the column names of q1p3b\n",
    "q1p3a.columns = [\"Season\", \"Month\", \"Average Arrival Delay\"]\n",
    "q1p3a[\"Season\"] = pd.Categorical(q1p3a[\"Season\"], categories=[\"Spring\", \"Summer\", \"Autumn\", \"Winter\"])\n",
    "\n",
    "# Printing the output of q1p3b\n",
    "display(q1p3a)"
   ]
  },
  {
   "cell_type": "code",
   "execution_count": null,
   "metadata": {},
   "outputs": [],
   "source": [
    "# Plot of average arrival delay of flights by month and season\n",
    "plt.figure(figsize=(10, 6))\n",
    "sns.set_style('whitegrid')\n",
    "\n",
    "barplot = sns.barplot(data=q1p3a, x='Month', y='Average Arrival Delay', hue='Season', palette={'Spring': '#00FF7F', 'Summer': '#FFD700', 'Autumn': '#FFA500', 'Winter': '#87CEEB'}, order=range(1, 13), dodge=False)\n",
    "plt.title('Figure 1.3a: Average Arrival Delay by Month and Season', fontsize=16, fontweight='bold')\n",
    "plt.xlabel('Month')\n",
    "plt.ylabel('Average Arrival Delay (minutes)')\n",
    "plt.xticks(range(0, 12), ['Jan', 'Feb', 'Mar', 'Apr', 'May', 'Jun', 'Jul', 'Aug', 'Sep', 'Oct', 'Nov', 'Dec'])\n",
    "plt.ylim(bottom=0, top=15)\n",
    "plt.axhline(y=q1p3a['Average Arrival Delay'].mean(), ls='--', color='r', label=f\"Overall Mean: {q1p3a['Average Arrival Delay'].mean():.2f}\")\n",
    "plt.legend(loc='upper center', bbox_to_anchor=(0.5, -0.1), ncol=5)\n",
    "plt.tight_layout()\n",
    "\n",
    "# Adding text labels to the plot\n",
    "ax = barplot.axes\n",
    "for i, r in q1p3a.iterrows():\n",
    "    ax.text(i, r[\"Average Arrival Delay\"] + 0.2, f\"{round(r['Average Arrival Delay'], 1)}%\", ha=\"center\", fontsize=10)\n",
    "\n",
    "plt.show()"
   ]
  },
  {
   "cell_type": "code",
   "execution_count": null,
   "metadata": {},
   "outputs": [],
   "source": [
    "# To obtain the percentage of cancelled, diverted, delayed and on-time performance for flights\n",
    "q1p3b = pd.read_sql_query(\"\"\"\n",
    "                          SELECT Season, Month, (AVG(Cancelled)*100) AS AvgCnl_perc, (AVG(Diverted)*100) AS AvgDiv_perc, \n",
    "                            ((CAST(SUM(CASE WHEN ArrDelay > 0 THEN 1 ELSE 0 END) AS FLOAT)/CAST(COUNT(*) AS FLOAT))*100) AS AvgArrDelay_perc, \n",
    "                            ((CAST(SUM(CASE WHEN ArrDelay <= 15 THEN 1 ELSE 0 END) AS FLOAT)/CAST(COUNT(*) AS FLOAT))*100) AS on_time_performance \n",
    "                          FROM ontime \n",
    "                          GROUP BY Season, Month \n",
    "                          ORDER BY Month\n",
    "                          \"\"\", conn)"
   ]
  },
  {
   "cell_type": "code",
   "execution_count": null,
   "metadata": {},
   "outputs": [],
   "source": [
    "# Changing the column names of q1p3b\n",
    "q1p3b.columns = [\"Season\", \"Month\", \"% of Cancelled Flights\", \"% of Diverted Flights\", \"% of Delayed Flights\", \"On-time Performance in %\"]\n",
    "q1p3b[\"Season\"] = pd.Categorical(q1p3b[\"Season\"], categories=[\"Spring\", \"Summer\", \"Autumn\", \"Winter\"])\n",
    "\n",
    "# Printing the output of q1p3b\n",
    "display(q1p3b)"
   ]
  },
  {
   "cell_type": "code",
   "execution_count": null,
   "metadata": {},
   "outputs": [],
   "source": [
    "# Bar chart for percentage of cancelled flights \n",
    "barplot = sns.barplot(data=q1p3b, x='Month', y='% of Cancelled Flights', hue='Season', palette={'Spring': '#00FF7F', 'Summer': '#FFD700', 'Autumn': '#FFA500', 'Winter': '#87CEEB'}, order=range(1, 13), dodge=False)\n",
    "plt.title('Figure 1.3b: Percentage of Cancelled Flights by Month and Season', fontsize=16, fontweight='bold')\n",
    "plt.xlabel('Month')\n",
    "plt.ylabel('Cancelled Flights (in %)')\n",
    "plt.xticks(range(0, 12), ['Jan', 'Feb', 'Mar', 'Apr', 'May', 'Jun', 'Jul', 'Aug', 'Sep', 'Oct', 'Nov', 'Dec'])\n",
    "plt.ylim(bottom=0, top=3.5)\n",
    "plt.axhline(y=q1p3b['% of Cancelled Flights'].mean(), ls='--', color='r', label=f\"Overall Mean: {q1p3b['% of Cancelled Flights'].mean():.2f}\")\n",
    "plt.legend(loc='upper center', bbox_to_anchor=(0.5, -0.2), ncol=5)\n",
    "plt.tight_layout()\n",
    "\n",
    "# add text labels to the plot\n",
    "ax = barplot.axes\n",
    "for i, r in q1p3b.iterrows():\n",
    "    ax.text(i, r[\"% of Cancelled Flights\"] + 0.05, f\"{round(r['% of Cancelled Flights'], 2)}%\", ha=\"center\", fontsize=8)\n",
    "\n",
    "plt.show()"
   ]
  },
  {
   "cell_type": "code",
   "execution_count": null,
   "metadata": {},
   "outputs": [],
   "source": [
    "# Bar chart for percentage of delayed flights \n",
    "barplot = sns.barplot(data=q1p3b, x='Month', y='% of Delayed Flights', hue='Season', palette={'Spring': '#00FF7F', 'Summer': '#FFD700', 'Autumn': '#FFA500', 'Winter': '#87CEEB'}, order=range(1, 13), dodge=False)\n",
    "plt.title('Figure 1.3c: Percentage of Delayed Flights by Month and Season', fontsize=16, fontweight='bold')\n",
    "plt.xlabel('Month')\n",
    "plt.ylabel('Delayed Flights (in %)')\n",
    "plt.xticks(range(0, 12), ['Jan', 'Feb', 'Mar', 'Apr', 'May', 'Jun', 'Jul', 'Aug', 'Sep', 'Oct', 'Nov', 'Dec'])\n",
    "plt.ylim(bottom=0, top=55)\n",
    "plt.axhline(y=q1p3b['% of Delayed Flights'].mean(), ls='--', color='r', label=f\"Overall Mean: {q1p3b['% of Delayed Flights'].mean():.2f}\")\n",
    "plt.legend(loc='upper center', bbox_to_anchor=(0.5, -0.2), ncol=5)\n",
    "plt.tight_layout()\n",
    "\n",
    "# add text labels to the plot\n",
    "ax = barplot.axes\n",
    "for i, r in q1p3b.iterrows():\n",
    "    ax.text(i, r[\"% of Delayed Flights\"] + 1, f\"{round(r['% of Delayed Flights'], 1)}%\", ha=\"center\", fontsize=8)\n",
    "\n",
    "plt.show()"
   ]
  },
  {
   "cell_type": "code",
   "execution_count": null,
   "metadata": {},
   "outputs": [],
   "source": [
    "# Bar chart for on-time performance of flights in percentage\n",
    "barplot = sns.barplot(data=q1p3b, x='Month', y='On-time Performance in %', hue='Season', palette={'Spring': '#00FF7F', 'Summer': '#FFD700', 'Autumn': '#FFA500', 'Winter': '#87CEEB'}, order=range(1, 13), dodge=False)\n",
    "plt.title('Figure 1.3d: On-time Performance (%) by Month and Season', fontsize=16, fontweight='bold')\n",
    "plt.xlabel('Month')\n",
    "plt.ylabel('Cancelled Flights (in %)')\n",
    "plt.xticks(range(0, 12), ['Jan', 'Feb', 'Mar', 'Apr', 'May', 'Jun', 'Jul', 'Aug', 'Sep', 'Oct', 'Nov', 'Dec'])\n",
    "plt.ylim(bottom=0, top=90)\n",
    "plt.axhline(y=q1p3b['On-time Performance in %'].mean(), ls='--', color='r', label=f\"Overall Mean: {q1p3b['On-time Performance in %'].mean():.2f}\")\n",
    "plt.legend(loc='upper center', bbox_to_anchor=(0.5, -0.2), ncol=5)\n",
    "plt.tight_layout()\n",
    "\n",
    "# add text labels to the plot\n",
    "ax = barplot.axes\n",
    "for i, r in q1p3b.iterrows():\n",
    "    ax.text(i, r[\"On-time Performance in %\"] + 1.3, f\"{round(r['On-time Performance in %'], 1)}%\", ha=\"center\", fontsize=8)\n",
    "\n",
    "plt.show()"
   ]
  },
  {
   "cell_type": "code",
   "execution_count": null,
   "metadata": {},
   "outputs": [],
   "source": [
    "barplot = sns.barplot(data=q1p3b, x='Month', y='% of Diverted Flights', hue='Season', palette={'Spring': '#00FF7F', 'Summer': '#FFD700', 'Autumn': '#FFA500', 'Winter': '#87CEEB'}, order=range(1, 13), dodge=False)\n",
    "plt.title('Figure 1.3e: Percentage of Diverted Flights by Month and Season', fontsize=16, fontweight='bold')\n",
    "plt.xlabel('Month')\n",
    "plt.ylabel('Diverted Flights (in %)')\n",
    "plt.xticks(range(0, 12), ['Jan', 'Feb', 'Mar', 'Apr', 'May', 'Jun', 'Jul', 'Aug', 'Sep', 'Oct', 'Nov', 'Dec'])\n",
    "plt.ylim(bottom=0, top=0.5)\n",
    "plt.axhline(y=q1p3b['% of Diverted Flights'].mean(), ls='--', color='r', label=f\"Overall Mean: {q1p3b['% of Diverted Flights'].mean():.2f}\")\n",
    "plt.legend(loc='upper center', bbox_to_anchor=(0.5, -0.2), ncol=5)\n",
    "plt.tight_layout()\n",
    "\n",
    "# add text labels to the plot\n",
    "ax = barplot.axes\n",
    "for i, r in q1p3b.iterrows():\n",
    "    ax.text(i, r[\"% of Diverted Flights\"] + 0.005, f\"{round(r['% of Diverted Flights'], 1)}%\", ha=\"center\", fontsize=8)\n",
    "\n",
    "plt.show()"
   ]
  },
  {
   "attachments": {},
   "cell_type": "markdown",
   "metadata": {},
   "source": [
    "## Close the database connection"
   ]
  },
  {
   "cell_type": "code",
   "execution_count": null,
   "metadata": {},
   "outputs": [],
   "source": [
    "conn.close()"
   ]
  }
 ],
 "metadata": {
  "kernelspec": {
   "display_name": "Python 3 (ipykernel)",
   "language": "python",
   "name": "python3"
  },
  "language_info": {
   "codemirror_mode": {
    "name": "ipython",
    "version": 3
   },
   "file_extension": ".py",
   "mimetype": "text/x-python",
   "name": "python",
   "nbconvert_exporter": "python",
   "pygments_lexer": "ipython3",
   "version": "3.9.12"
  }
 },
 "nbformat": 4,
 "nbformat_minor": 2
}

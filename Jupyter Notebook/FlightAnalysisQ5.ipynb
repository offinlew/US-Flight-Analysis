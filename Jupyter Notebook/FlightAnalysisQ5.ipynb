{
 "cells": [
  {
   "attachments": {},
   "cell_type": "markdown",
   "metadata": {},
   "source": [
    "# Setting up the workspace"
   ]
  },
  {
   "cell_type": "markdown",
   "metadata": {},
   "source": [
    "## Importing the necessary modules"
   ]
  },
  {
   "cell_type": "code",
   "execution_count": 1,
   "metadata": {},
   "outputs": [],
   "source": [
    "import sqlite3\n",
    "import pandas as pd\n",
    "import numpy as np\n",
    "import seaborn as sns\n",
    "import os\n",
    "import matplotlib.pyplot as plt\n",
    "from skimpy import skim\n",
    "from sklearn.metrics import mean_squared_error, r2_score, mean_absolute_error, accuracy_score\n",
    "from sklearn.model_selection import train_test_split, GridSearchCV\n",
    "from sklearn.model_selection import KFold, cross_val_score\n",
    "from sklearn.linear_model import LinearRegression\n",
    "from sklearn.linear_model import Lasso\n",
    "from sklearn.linear_model import Ridge\n",
    "from sklearn.ensemble import RandomForestRegressor\n",
    "from sklearn.ensemble import GradientBoostingClassifier\n",
    "from sklearn.pipeline import Pipeline\n",
    "from sklearn.impute import SimpleImputer\n",
    "from sklearn.preprocessing import StandardScaler, OneHotEncoder\n",
    "from sklearn.compose import ColumnTransformer #transform different types"
   ]
  },
  {
   "attachments": {},
   "cell_type": "markdown",
   "metadata": {},
   "source": [
    "## Setting working directory"
   ]
  },
  {
   "cell_type": "code",
   "execution_count": 2,
   "metadata": {},
   "outputs": [
    {
     "data": {
      "text/plain": [
       "'/Users/lewyiliang/Library/CloudStorage/OneDrive-SIM-SingaporeInstituteofManagement/Year 2/ST2195 - Programming for Data Science/Coursework/dataverse_files'"
      ]
     },
     "execution_count": 2,
     "metadata": {},
     "output_type": "execute_result"
    }
   ],
   "source": [
    "os.chdir('/Users/lewyiliang/Library/CloudStorage/OneDrive-SIM-SingaporeInstituteofManagement/Year 2/ST2195 - Programming for Data Science/Coursework/dataverse_files')\n",
    "os.getcwd()  # Prints the current working directory"
   ]
  },
  {
   "cell_type": "markdown",
   "metadata": {},
   "source": [
    "## Connecting to coursework_py database"
   ]
  },
  {
   "cell_type": "code",
   "execution_count": 3,
   "metadata": {},
   "outputs": [],
   "source": [
    "conn = sqlite3.connect('/Users/lewyiliang/Library/CloudStorage/OneDrive-SIM-SingaporeInstituteofManagement/Year 2/ST2195 - Programming for Data Science/Coursework/dataverse_files/coursework_py.db')"
   ]
  },
  {
   "attachments": {},
   "cell_type": "markdown",
   "metadata": {},
   "source": [
    "## 5. Use the available resources to construct a model that predicts delays."
   ]
  },
  {
   "cell_type": "markdown",
   "metadata": {},
   "source": [
    "### Selecting features relevant\n"
   ]
  },
  {
   "cell_type": "code",
   "execution_count": 4,
   "metadata": {},
   "outputs": [],
   "source": [
    "q5_features = pd.read_sql_query(\"\"\"\n",
    "                                SELECT ontime.Year, Month, DayofMonth, DayOfWeek, DepTime, CRSDepTime, ArrTime, CRSArrTime, AirTime, ArrDelay, DepDelay,\n",
    "                                 Distance, CarrierDelay, WeatherDelay, NASDelay, SecurityDelay, LateAircraftDelay, \n",
    "                                 (ontime.Year - planes.year) AS PlaneAge\n",
    "                                FROM ontime JOIN planes ON ontime.TailNum = planes.tailnum\n",
    "                                WHERE Cancelled = 0 AND Diverted = 0 AND PlaneAge >= 0 AND PlaneAge <= 51\n",
    "                                \"\"\", conn)"
   ]
  },
  {
   "cell_type": "code",
   "execution_count": 5,
   "metadata": {},
   "outputs": [
    {
     "data": {
      "text/html": [
       "<div>\n",
       "<style scoped>\n",
       "    .dataframe tbody tr th:only-of-type {\n",
       "        vertical-align: middle;\n",
       "    }\n",
       "\n",
       "    .dataframe tbody tr th {\n",
       "        vertical-align: top;\n",
       "    }\n",
       "\n",
       "    .dataframe thead th {\n",
       "        text-align: right;\n",
       "    }\n",
       "</style>\n",
       "<table border=\"1\" class=\"dataframe\">\n",
       "  <thead>\n",
       "    <tr style=\"text-align: right;\">\n",
       "      <th></th>\n",
       "      <th>Year</th>\n",
       "      <th>Month</th>\n",
       "      <th>DayofMonth</th>\n",
       "      <th>DayOfWeek</th>\n",
       "      <th>DepTime</th>\n",
       "      <th>CRSDepTime</th>\n",
       "      <th>ArrTime</th>\n",
       "      <th>CRSArrTime</th>\n",
       "      <th>AirTime</th>\n",
       "      <th>ArrDelay</th>\n",
       "      <th>DepDelay</th>\n",
       "      <th>Distance</th>\n",
       "      <th>CarrierDelay</th>\n",
       "      <th>WeatherDelay</th>\n",
       "      <th>NASDelay</th>\n",
       "      <th>SecurityDelay</th>\n",
       "      <th>LateAircraftDelay</th>\n",
       "      <th>PlaneAge</th>\n",
       "    </tr>\n",
       "  </thead>\n",
       "  <tbody>\n",
       "    <tr>\n",
       "      <th>0</th>\n",
       "      <td>2005</td>\n",
       "      <td>1</td>\n",
       "      <td>28</td>\n",
       "      <td>5</td>\n",
       "      <td>1603.0</td>\n",
       "      <td>1605</td>\n",
       "      <td>1741.0</td>\n",
       "      <td>1759</td>\n",
       "      <td>131.0</td>\n",
       "      <td>-18.0</td>\n",
       "      <td>-2.0</td>\n",
       "      <td>867</td>\n",
       "      <td>0</td>\n",
       "      <td>0</td>\n",
       "      <td>0</td>\n",
       "      <td>0</td>\n",
       "      <td>0</td>\n",
       "      <td>13</td>\n",
       "    </tr>\n",
       "    <tr>\n",
       "      <th>1</th>\n",
       "      <td>2005</td>\n",
       "      <td>1</td>\n",
       "      <td>29</td>\n",
       "      <td>6</td>\n",
       "      <td>1559.0</td>\n",
       "      <td>1605</td>\n",
       "      <td>1736.0</td>\n",
       "      <td>1759</td>\n",
       "      <td>136.0</td>\n",
       "      <td>-23.0</td>\n",
       "      <td>-6.0</td>\n",
       "      <td>867</td>\n",
       "      <td>0</td>\n",
       "      <td>0</td>\n",
       "      <td>0</td>\n",
       "      <td>0</td>\n",
       "      <td>0</td>\n",
       "      <td>13</td>\n",
       "    </tr>\n",
       "    <tr>\n",
       "      <th>2</th>\n",
       "      <td>2005</td>\n",
       "      <td>1</td>\n",
       "      <td>30</td>\n",
       "      <td>7</td>\n",
       "      <td>1603.0</td>\n",
       "      <td>1610</td>\n",
       "      <td>1741.0</td>\n",
       "      <td>1805</td>\n",
       "      <td>131.0</td>\n",
       "      <td>-24.0</td>\n",
       "      <td>-7.0</td>\n",
       "      <td>867</td>\n",
       "      <td>0</td>\n",
       "      <td>0</td>\n",
       "      <td>0</td>\n",
       "      <td>0</td>\n",
       "      <td>0</td>\n",
       "      <td>17</td>\n",
       "    </tr>\n",
       "    <tr>\n",
       "      <th>3</th>\n",
       "      <td>2005</td>\n",
       "      <td>1</td>\n",
       "      <td>31</td>\n",
       "      <td>1</td>\n",
       "      <td>1556.0</td>\n",
       "      <td>1605</td>\n",
       "      <td>1726.0</td>\n",
       "      <td>1759</td>\n",
       "      <td>129.0</td>\n",
       "      <td>-33.0</td>\n",
       "      <td>-9.0</td>\n",
       "      <td>867</td>\n",
       "      <td>0</td>\n",
       "      <td>0</td>\n",
       "      <td>0</td>\n",
       "      <td>0</td>\n",
       "      <td>0</td>\n",
       "      <td>17</td>\n",
       "    </tr>\n",
       "    <tr>\n",
       "      <th>4</th>\n",
       "      <td>2005</td>\n",
       "      <td>1</td>\n",
       "      <td>2</td>\n",
       "      <td>7</td>\n",
       "      <td>1934.0</td>\n",
       "      <td>1900</td>\n",
       "      <td>2235.0</td>\n",
       "      <td>2232</td>\n",
       "      <td>106.0</td>\n",
       "      <td>3.0</td>\n",
       "      <td>34.0</td>\n",
       "      <td>867</td>\n",
       "      <td>0</td>\n",
       "      <td>0</td>\n",
       "      <td>0</td>\n",
       "      <td>0</td>\n",
       "      <td>0</td>\n",
       "      <td>15</td>\n",
       "    </tr>\n",
       "  </tbody>\n",
       "</table>\n",
       "</div>"
      ],
      "text/plain": [
       "   Year  Month  DayofMonth  DayOfWeek  DepTime  CRSDepTime  ArrTime  \\\n",
       "0  2005      1          28          5   1603.0        1605   1741.0   \n",
       "1  2005      1          29          6   1559.0        1605   1736.0   \n",
       "2  2005      1          30          7   1603.0        1610   1741.0   \n",
       "3  2005      1          31          1   1556.0        1605   1726.0   \n",
       "4  2005      1           2          7   1934.0        1900   2235.0   \n",
       "\n",
       "   CRSArrTime  AirTime  ArrDelay  DepDelay  Distance  CarrierDelay  \\\n",
       "0        1759    131.0     -18.0      -2.0       867             0   \n",
       "1        1759    136.0     -23.0      -6.0       867             0   \n",
       "2        1805    131.0     -24.0      -7.0       867             0   \n",
       "3        1759    129.0     -33.0      -9.0       867             0   \n",
       "4        2232    106.0       3.0      34.0       867             0   \n",
       "\n",
       "   WeatherDelay  NASDelay  SecurityDelay  LateAircraftDelay  PlaneAge  \n",
       "0             0         0              0                  0        13  \n",
       "1             0         0              0                  0        13  \n",
       "2             0         0              0                  0        17  \n",
       "3             0         0              0                  0        17  \n",
       "4             0         0              0                  0        15  "
      ]
     },
     "metadata": {},
     "output_type": "display_data"
    }
   ],
   "source": [
    "display(q5_features.head())"
   ]
  },
  {
   "cell_type": "code",
   "execution_count": 6,
   "metadata": {},
   "outputs": [
    {
     "name": "stdout",
     "output_type": "stream",
     "text": [
      "16483019\n"
     ]
    }
   ],
   "source": [
    "# To obtain the number of flights\n",
    "print(len(q5_features)) "
   ]
  },
  {
   "cell_type": "code",
   "execution_count": 7,
   "metadata": {},
   "outputs": [
    {
     "data": {
      "text/html": [
       "<pre style=\"white-space:pre;overflow-x:auto;line-height:normal;font-family:Menlo,'DejaVu Sans Mono',consolas,'Courier New',monospace\">╭──────────────────────────────────────────────── skimpy summary ─────────────────────────────────────────────────╮\n",
       "│ <span style=\"font-style: italic\">          Data Summary          </span> <span style=\"font-style: italic\">      Data Types       </span>                                                        │\n",
       "│ ┏━━━━━━━━━━━━━━━━━━━┳━━━━━━━━━━┓ ┏━━━━━━━━━━━━━┳━━━━━━━┓                                                        │\n",
       "│ ┃<span style=\"color: #008080; text-decoration-color: #008080; font-weight: bold\"> dataframe         </span>┃<span style=\"color: #008080; text-decoration-color: #008080; font-weight: bold\"> Values   </span>┃ ┃<span style=\"color: #008080; text-decoration-color: #008080; font-weight: bold\"> Column Type </span>┃<span style=\"color: #008080; text-decoration-color: #008080; font-weight: bold\"> Count </span>┃                                                        │\n",
       "│ ┡━━━━━━━━━━━━━━━━━━━╇━━━━━━━━━━┩ ┡━━━━━━━━━━━━━╇━━━━━━━┩                                                        │\n",
       "│ │ Number of rows    │ 16483019 │ │ int64       │ 13    │                                                        │\n",
       "│ │ Number of columns │ 18       │ │ float64     │ 5     │                                                        │\n",
       "│ └───────────────────┴──────────┘ └─────────────┴───────┘                                                        │\n",
       "│ <span style=\"font-style: italic\">                                                    number                                                    </span>  │\n",
       "│ ┏━━━━━━━━━━━━━━━━━━━━━━━━━━┳━━━━━━┳━━━━━━━━┳━━━━━━━━━┳━━━━━━━━┳━━━━━━━━━┳━━━━━━━━┳━━━━━━━━┳━━━━━━━━┳━━━━━━━━━┓  │\n",
       "│ ┃<span style=\"font-weight: bold\"> column_name              </span>┃<span style=\"font-weight: bold\"> NA   </span>┃<span style=\"font-weight: bold\"> NA %   </span>┃<span style=\"font-weight: bold\"> mean    </span>┃<span style=\"font-weight: bold\"> sd     </span>┃<span style=\"font-weight: bold\"> p0      </span>┃<span style=\"font-weight: bold\"> p25    </span>┃<span style=\"font-weight: bold\"> p75    </span>┃<span style=\"font-weight: bold\"> p100   </span>┃<span style=\"font-weight: bold\"> hist    </span>┃  │\n",
       "│ ┡━━━━━━━━━━━━━━━━━━━━━━━━━━╇━━━━━━╇━━━━━━━━╇━━━━━━━━━╇━━━━━━━━╇━━━━━━━━━╇━━━━━━━━╇━━━━━━━━╇━━━━━━━━╇━━━━━━━━━┩  │\n",
       "│ │ <span style=\"color: #af87ff; text-decoration-color: #af87ff\">Year                    </span> │ <span style=\"color: #008080; text-decoration-color: #008080\">   0</span> │ <span style=\"color: #008080; text-decoration-color: #008080\">     0</span> │ <span style=\"color: #008080; text-decoration-color: #008080\">   2000</span> │ <span style=\"color: #008080; text-decoration-color: #008080\">  0.82</span> │ <span style=\"color: #008080; text-decoration-color: #008080\">   2000</span> │ <span style=\"color: #008080; text-decoration-color: #008080\">  2000</span> │ <span style=\"color: #008080; text-decoration-color: #008080\">  2000</span> │ <span style=\"color: #008080; text-decoration-color: #008080\">  2000</span> │ <span style=\"color: #008000; text-decoration-color: #008000\">▆  ▇ █ </span> │  │\n",
       "│ │ <span style=\"color: #af87ff; text-decoration-color: #af87ff\">Month                   </span> │ <span style=\"color: #008080; text-decoration-color: #008080\">   0</span> │ <span style=\"color: #008080; text-decoration-color: #008080\">     0</span> │ <span style=\"color: #008080; text-decoration-color: #008080\">    6.6</span> │ <span style=\"color: #008080; text-decoration-color: #008080\">   3.4</span> │ <span style=\"color: #008080; text-decoration-color: #008080\">      1</span> │ <span style=\"color: #008080; text-decoration-color: #008080\">     4</span> │ <span style=\"color: #008080; text-decoration-color: #008080\">    10</span> │ <span style=\"color: #008080; text-decoration-color: #008080\">    12</span> │ <span style=\"color: #008000; text-decoration-color: #008000\">▇█████ </span> │  │\n",
       "│ │ <span style=\"color: #af87ff; text-decoration-color: #af87ff\">DayofMonth              </span> │ <span style=\"color: #008080; text-decoration-color: #008080\">   0</span> │ <span style=\"color: #008080; text-decoration-color: #008080\">     0</span> │ <span style=\"color: #008080; text-decoration-color: #008080\">     16</span> │ <span style=\"color: #008080; text-decoration-color: #008080\">   8.8</span> │ <span style=\"color: #008080; text-decoration-color: #008080\">      1</span> │ <span style=\"color: #008080; text-decoration-color: #008080\">     8</span> │ <span style=\"color: #008080; text-decoration-color: #008080\">    23</span> │ <span style=\"color: #008080; text-decoration-color: #008080\">    31</span> │ <span style=\"color: #008000; text-decoration-color: #008000\">▇▇▇▇▇█ </span> │  │\n",
       "│ │ <span style=\"color: #af87ff; text-decoration-color: #af87ff\">DayOfWeek               </span> │ <span style=\"color: #008080; text-decoration-color: #008080\">   0</span> │ <span style=\"color: #008080; text-decoration-color: #008080\">     0</span> │ <span style=\"color: #008080; text-decoration-color: #008080\">    3.9</span> │ <span style=\"color: #008080; text-decoration-color: #008080\">     2</span> │ <span style=\"color: #008080; text-decoration-color: #008080\">      1</span> │ <span style=\"color: #008080; text-decoration-color: #008080\">     2</span> │ <span style=\"color: #008080; text-decoration-color: #008080\">     6</span> │ <span style=\"color: #008080; text-decoration-color: #008080\">     7</span> │ <span style=\"color: #008000; text-decoration-color: #008000\">▄▄▄▄▄█ </span> │  │\n",
       "│ │ <span style=\"color: #af87ff; text-decoration-color: #af87ff\">DepTime                 </span> │ <span style=\"color: #008080; text-decoration-color: #008080\">   0</span> │ <span style=\"color: #008080; text-decoration-color: #008080\">     0</span> │ <span style=\"color: #008080; text-decoration-color: #008080\">   1300</span> │ <span style=\"color: #008080; text-decoration-color: #008080\">   480</span> │ <span style=\"color: #008080; text-decoration-color: #008080\">      0</span> │ <span style=\"color: #008080; text-decoration-color: #008080\">   930</span> │ <span style=\"color: #008080; text-decoration-color: #008080\">  1700</span> │ <span style=\"color: #008080; text-decoration-color: #008080\">  2400</span> │ <span style=\"color: #008000; text-decoration-color: #008000\"> ▅███▃ </span> │  │\n",
       "│ │ <span style=\"color: #af87ff; text-decoration-color: #af87ff\">CRSDepTime              </span> │ <span style=\"color: #008080; text-decoration-color: #008080\">   0</span> │ <span style=\"color: #008080; text-decoration-color: #008080\">     0</span> │ <span style=\"color: #008080; text-decoration-color: #008080\">   1300</span> │ <span style=\"color: #008080; text-decoration-color: #008080\">   470</span> │ <span style=\"color: #008080; text-decoration-color: #008080\">      1</span> │ <span style=\"color: #008080; text-decoration-color: #008080\">   930</span> │ <span style=\"color: #008080; text-decoration-color: #008080\">  1700</span> │ <span style=\"color: #008080; text-decoration-color: #008080\">  2400</span> │ <span style=\"color: #008000; text-decoration-color: #008000\"> ▄██▇▃ </span> │  │\n",
       "│ │ <span style=\"color: #af87ff; text-decoration-color: #af87ff\">ArrTime                 </span> │ <span style=\"color: #008080; text-decoration-color: #008080\">   0</span> │ <span style=\"color: #008080; text-decoration-color: #008080\">     0</span> │ <span style=\"color: #008080; text-decoration-color: #008080\">   1500</span> │ <span style=\"color: #008080; text-decoration-color: #008080\">   510</span> │ <span style=\"color: #008080; text-decoration-color: #008080\">      0</span> │ <span style=\"color: #008080; text-decoration-color: #008080\">  1100</span> │ <span style=\"color: #008080; text-decoration-color: #008080\">  1900</span> │ <span style=\"color: #008080; text-decoration-color: #008080\">  2400</span> │ <span style=\"color: #008000; text-decoration-color: #008000\">▁▂▇██▆ </span> │  │\n",
       "│ │ <span style=\"color: #af87ff; text-decoration-color: #af87ff\">CRSArrTime              </span> │ <span style=\"color: #008080; text-decoration-color: #008080\">   0</span> │ <span style=\"color: #008080; text-decoration-color: #008080\">     0</span> │ <span style=\"color: #008080; text-decoration-color: #008080\">   1500</span> │ <span style=\"color: #008080; text-decoration-color: #008080\">   480</span> │ <span style=\"color: #008080; text-decoration-color: #008080\">      0</span> │ <span style=\"color: #008080; text-decoration-color: #008080\">  1100</span> │ <span style=\"color: #008080; text-decoration-color: #008080\">  1900</span> │ <span style=\"color: #008080; text-decoration-color: #008080\">  2400</span> │ <span style=\"color: #008000; text-decoration-color: #008000\"> ▂▇██▆ </span> │  │\n",
       "│ │ <span style=\"color: #af87ff; text-decoration-color: #af87ff\">AirTime                 </span> │ <span style=\"color: #008080; text-decoration-color: #008080\">   0</span> │ <span style=\"color: #008080; text-decoration-color: #008080\">     0</span> │ <span style=\"color: #008080; text-decoration-color: #008080\">    100</span> │ <span style=\"color: #008080; text-decoration-color: #008080\">    77</span> │ <span style=\"color: #008080; text-decoration-color: #008080\">  -1400</span> │ <span style=\"color: #008080; text-decoration-color: #008080\">    55</span> │ <span style=\"color: #008080; text-decoration-color: #008080\">   130</span> │ <span style=\"color: #008080; text-decoration-color: #008080\">  2000</span> │ <span style=\"color: #008000; text-decoration-color: #008000\">    █  </span> │  │\n",
       "│ │ <span style=\"color: #af87ff; text-decoration-color: #af87ff\">ArrDelay                </span> │ <span style=\"color: #008080; text-decoration-color: #008080\">   0</span> │ <span style=\"color: #008080; text-decoration-color: #008080\">     0</span> │ <span style=\"color: #008080; text-decoration-color: #008080\">      9</span> │ <span style=\"color: #008080; text-decoration-color: #008080\">    37</span> │ <span style=\"color: #008080; text-decoration-color: #008080\">   -690</span> │ <span style=\"color: #008080; text-decoration-color: #008080\">    -9</span> │ <span style=\"color: #008080; text-decoration-color: #008080\">    13</span> │ <span style=\"color: #008080; text-decoration-color: #008080\">  2600</span> │ <span style=\"color: #008000; text-decoration-color: #008000\">   █   </span> │  │\n",
       "│ │ <span style=\"color: #af87ff; text-decoration-color: #af87ff\">DepDelay                </span> │ <span style=\"color: #008080; text-decoration-color: #008080\">   0</span> │ <span style=\"color: #008080; text-decoration-color: #008080\">     0</span> │ <span style=\"color: #008080; text-decoration-color: #008080\">     10</span> │ <span style=\"color: #008080; text-decoration-color: #008080\">    34</span> │ <span style=\"color: #008080; text-decoration-color: #008080\">  -1200</span> │ <span style=\"color: #008080; text-decoration-color: #008080\">    -4</span> │ <span style=\"color: #008080; text-decoration-color: #008080\">     9</span> │ <span style=\"color: #008080; text-decoration-color: #008080\">  2600</span> │ <span style=\"color: #008000; text-decoration-color: #008000\">   █   </span> │  │\n",
       "│ │ <span style=\"color: #af87ff; text-decoration-color: #af87ff\">Distance                </span> │ <span style=\"color: #008080; text-decoration-color: #008080\">   0</span> │ <span style=\"color: #008080; text-decoration-color: #008080\">     0</span> │ <span style=\"color: #008080; text-decoration-color: #008080\">    730</span> │ <span style=\"color: #008080; text-decoration-color: #008080\">   570</span> │ <span style=\"color: #008080; text-decoration-color: #008080\">     11</span> │ <span style=\"color: #008080; text-decoration-color: #008080\">   320</span> │ <span style=\"color: #008080; text-decoration-color: #008080\">   950</span> │ <span style=\"color: #008080; text-decoration-color: #008080\">  5000</span> │ <span style=\"color: #008000; text-decoration-color: #008000\">  █▃▁  </span> │  │\n",
       "│ │ <span style=\"color: #af87ff; text-decoration-color: #af87ff\">CarrierDelay            </span> │ <span style=\"color: #008080; text-decoration-color: #008080\">   0</span> │ <span style=\"color: #008080; text-decoration-color: #008080\">     0</span> │ <span style=\"color: #008080; text-decoration-color: #008080\">    3.6</span> │ <span style=\"color: #008080; text-decoration-color: #008080\">    19</span> │ <span style=\"color: #008080; text-decoration-color: #008080\">      0</span> │ <span style=\"color: #008080; text-decoration-color: #008080\">     0</span> │ <span style=\"color: #008080; text-decoration-color: #008080\">     0</span> │ <span style=\"color: #008080; text-decoration-color: #008080\">  2600</span> │ <span style=\"color: #008000; text-decoration-color: #008000\">   █   </span> │  │\n",
       "│ │ <span style=\"color: #af87ff; text-decoration-color: #af87ff\">WeatherDelay            </span> │ <span style=\"color: #008080; text-decoration-color: #008080\">   0</span> │ <span style=\"color: #008080; text-decoration-color: #008080\">     0</span> │ <span style=\"color: #008080; text-decoration-color: #008080\">   0.72</span> │ <span style=\"color: #008080; text-decoration-color: #008080\">     9</span> │ <span style=\"color: #008080; text-decoration-color: #008080\">      0</span> │ <span style=\"color: #008080; text-decoration-color: #008080\">     0</span> │ <span style=\"color: #008080; text-decoration-color: #008080\">     0</span> │ <span style=\"color: #008080; text-decoration-color: #008080\">  1500</span> │ <span style=\"color: #008000; text-decoration-color: #008000\">   █   </span> │  │\n",
       "│ │ <span style=\"color: #af87ff; text-decoration-color: #af87ff\">NASDelay                </span> │ <span style=\"color: #008080; text-decoration-color: #008080\">   0</span> │ <span style=\"color: #008080; text-decoration-color: #008080\">     0</span> │ <span style=\"color: #008080; text-decoration-color: #008080\">    3.8</span> │ <span style=\"color: #008080; text-decoration-color: #008080\">    16</span> │ <span style=\"color: #008080; text-decoration-color: #008080\">    -49</span> │ <span style=\"color: #008080; text-decoration-color: #008080\">     0</span> │ <span style=\"color: #008080; text-decoration-color: #008080\">     0</span> │ <span style=\"color: #008080; text-decoration-color: #008080\">  1400</span> │ <span style=\"color: #008000; text-decoration-color: #008000\">   █   </span> │  │\n",
       "│ │ <span style=\"color: #af87ff; text-decoration-color: #af87ff\">SecurityDelay           </span> │ <span style=\"color: #008080; text-decoration-color: #008080\">   0</span> │ <span style=\"color: #008080; text-decoration-color: #008080\">     0</span> │ <span style=\"color: #008080; text-decoration-color: #008080\">  0.026</span> │ <span style=\"color: #008080; text-decoration-color: #008080\">   1.2</span> │ <span style=\"color: #008080; text-decoration-color: #008080\">      0</span> │ <span style=\"color: #008080; text-decoration-color: #008080\">     0</span> │ <span style=\"color: #008080; text-decoration-color: #008080\">     0</span> │ <span style=\"color: #008080; text-decoration-color: #008080\">   370</span> │ <span style=\"color: #008000; text-decoration-color: #008000\">   █   </span> │  │\n",
       "│ │ <span style=\"color: #af87ff; text-decoration-color: #af87ff\">LateAircraftDelay       </span> │ <span style=\"color: #008080; text-decoration-color: #008080\">   0</span> │ <span style=\"color: #008080; text-decoration-color: #008080\">     0</span> │ <span style=\"color: #008080; text-decoration-color: #008080\">    4.6</span> │ <span style=\"color: #008080; text-decoration-color: #008080\">    20</span> │ <span style=\"color: #008080; text-decoration-color: #008080\">      0</span> │ <span style=\"color: #008080; text-decoration-color: #008080\">     0</span> │ <span style=\"color: #008080; text-decoration-color: #008080\">     0</span> │ <span style=\"color: #008080; text-decoration-color: #008080\">  1400</span> │ <span style=\"color: #008000; text-decoration-color: #008000\">   █   </span> │  │\n",
       "│ │ <span style=\"color: #af87ff; text-decoration-color: #af87ff\">PlaneAge                </span> │ <span style=\"color: #008080; text-decoration-color: #008080\">   0</span> │ <span style=\"color: #008080; text-decoration-color: #008080\">     0</span> │ <span style=\"color: #008080; text-decoration-color: #008080\">    9.4</span> │ <span style=\"color: #008080; text-decoration-color: #008080\">   7.3</span> │ <span style=\"color: #008080; text-decoration-color: #008080\">      0</span> │ <span style=\"color: #008080; text-decoration-color: #008080\">     4</span> │ <span style=\"color: #008080; text-decoration-color: #008080\">    14</span> │ <span style=\"color: #008080; text-decoration-color: #008080\">    51</span> │ <span style=\"color: #008000; text-decoration-color: #008000\">  █▃▂  </span> │  │\n",
       "│ └──────────────────────────┴──────┴────────┴─────────┴────────┴─────────┴────────┴────────┴────────┴─────────┘  │\n",
       "╰────────────────────────────────────────────────────── End ──────────────────────────────────────────────────────╯\n",
       "</pre>\n"
      ],
      "text/plain": [
       "╭──────────────────────────────────────────────── skimpy summary ─────────────────────────────────────────────────╮\n",
       "│ \u001b[3m          Data Summary          \u001b[0m \u001b[3m      Data Types       \u001b[0m                                                        │\n",
       "│ ┏━━━━━━━━━━━━━━━━━━━┳━━━━━━━━━━┓ ┏━━━━━━━━━━━━━┳━━━━━━━┓                                                        │\n",
       "│ ┃\u001b[1;36m \u001b[0m\u001b[1;36mdataframe        \u001b[0m\u001b[1;36m \u001b[0m┃\u001b[1;36m \u001b[0m\u001b[1;36mValues  \u001b[0m\u001b[1;36m \u001b[0m┃ ┃\u001b[1;36m \u001b[0m\u001b[1;36mColumn Type\u001b[0m\u001b[1;36m \u001b[0m┃\u001b[1;36m \u001b[0m\u001b[1;36mCount\u001b[0m\u001b[1;36m \u001b[0m┃                                                        │\n",
       "│ ┡━━━━━━━━━━━━━━━━━━━╇━━━━━━━━━━┩ ┡━━━━━━━━━━━━━╇━━━━━━━┩                                                        │\n",
       "│ │ Number of rows    │ 16483019 │ │ int64       │ 13    │                                                        │\n",
       "│ │ Number of columns │ 18       │ │ float64     │ 5     │                                                        │\n",
       "│ └───────────────────┴──────────┘ └─────────────┴───────┘                                                        │\n",
       "│ \u001b[3m                                                    number                                                    \u001b[0m  │\n",
       "│ ┏━━━━━━━━━━━━━━━━━━━━━━━━━━┳━━━━━━┳━━━━━━━━┳━━━━━━━━━┳━━━━━━━━┳━━━━━━━━━┳━━━━━━━━┳━━━━━━━━┳━━━━━━━━┳━━━━━━━━━┓  │\n",
       "│ ┃\u001b[1m \u001b[0m\u001b[1mcolumn_name             \u001b[0m\u001b[1m \u001b[0m┃\u001b[1m \u001b[0m\u001b[1mNA  \u001b[0m\u001b[1m \u001b[0m┃\u001b[1m \u001b[0m\u001b[1mNA %  \u001b[0m\u001b[1m \u001b[0m┃\u001b[1m \u001b[0m\u001b[1mmean   \u001b[0m\u001b[1m \u001b[0m┃\u001b[1m \u001b[0m\u001b[1msd    \u001b[0m\u001b[1m \u001b[0m┃\u001b[1m \u001b[0m\u001b[1mp0     \u001b[0m\u001b[1m \u001b[0m┃\u001b[1m \u001b[0m\u001b[1mp25   \u001b[0m\u001b[1m \u001b[0m┃\u001b[1m \u001b[0m\u001b[1mp75   \u001b[0m\u001b[1m \u001b[0m┃\u001b[1m \u001b[0m\u001b[1mp100  \u001b[0m\u001b[1m \u001b[0m┃\u001b[1m \u001b[0m\u001b[1mhist   \u001b[0m\u001b[1m \u001b[0m┃  │\n",
       "│ ┡━━━━━━━━━━━━━━━━━━━━━━━━━━╇━━━━━━╇━━━━━━━━╇━━━━━━━━━╇━━━━━━━━╇━━━━━━━━━╇━━━━━━━━╇━━━━━━━━╇━━━━━━━━╇━━━━━━━━━┩  │\n",
       "│ │ \u001b[38;5;141mYear                    \u001b[0m │ \u001b[36m   0\u001b[0m │ \u001b[36m     0\u001b[0m │ \u001b[36m   2000\u001b[0m │ \u001b[36m  0.82\u001b[0m │ \u001b[36m   2000\u001b[0m │ \u001b[36m  2000\u001b[0m │ \u001b[36m  2000\u001b[0m │ \u001b[36m  2000\u001b[0m │ \u001b[32m▆  ▇ █ \u001b[0m │  │\n",
       "│ │ \u001b[38;5;141mMonth                   \u001b[0m │ \u001b[36m   0\u001b[0m │ \u001b[36m     0\u001b[0m │ \u001b[36m    6.6\u001b[0m │ \u001b[36m   3.4\u001b[0m │ \u001b[36m      1\u001b[0m │ \u001b[36m     4\u001b[0m │ \u001b[36m    10\u001b[0m │ \u001b[36m    12\u001b[0m │ \u001b[32m▇█████ \u001b[0m │  │\n",
       "│ │ \u001b[38;5;141mDayofMonth              \u001b[0m │ \u001b[36m   0\u001b[0m │ \u001b[36m     0\u001b[0m │ \u001b[36m     16\u001b[0m │ \u001b[36m   8.8\u001b[0m │ \u001b[36m      1\u001b[0m │ \u001b[36m     8\u001b[0m │ \u001b[36m    23\u001b[0m │ \u001b[36m    31\u001b[0m │ \u001b[32m▇▇▇▇▇█ \u001b[0m │  │\n",
       "│ │ \u001b[38;5;141mDayOfWeek               \u001b[0m │ \u001b[36m   0\u001b[0m │ \u001b[36m     0\u001b[0m │ \u001b[36m    3.9\u001b[0m │ \u001b[36m     2\u001b[0m │ \u001b[36m      1\u001b[0m │ \u001b[36m     2\u001b[0m │ \u001b[36m     6\u001b[0m │ \u001b[36m     7\u001b[0m │ \u001b[32m▄▄▄▄▄█ \u001b[0m │  │\n",
       "│ │ \u001b[38;5;141mDepTime                 \u001b[0m │ \u001b[36m   0\u001b[0m │ \u001b[36m     0\u001b[0m │ \u001b[36m   1300\u001b[0m │ \u001b[36m   480\u001b[0m │ \u001b[36m      0\u001b[0m │ \u001b[36m   930\u001b[0m │ \u001b[36m  1700\u001b[0m │ \u001b[36m  2400\u001b[0m │ \u001b[32m ▅███▃ \u001b[0m │  │\n",
       "│ │ \u001b[38;5;141mCRSDepTime              \u001b[0m │ \u001b[36m   0\u001b[0m │ \u001b[36m     0\u001b[0m │ \u001b[36m   1300\u001b[0m │ \u001b[36m   470\u001b[0m │ \u001b[36m      1\u001b[0m │ \u001b[36m   930\u001b[0m │ \u001b[36m  1700\u001b[0m │ \u001b[36m  2400\u001b[0m │ \u001b[32m ▄██▇▃ \u001b[0m │  │\n",
       "│ │ \u001b[38;5;141mArrTime                 \u001b[0m │ \u001b[36m   0\u001b[0m │ \u001b[36m     0\u001b[0m │ \u001b[36m   1500\u001b[0m │ \u001b[36m   510\u001b[0m │ \u001b[36m      0\u001b[0m │ \u001b[36m  1100\u001b[0m │ \u001b[36m  1900\u001b[0m │ \u001b[36m  2400\u001b[0m │ \u001b[32m▁▂▇██▆ \u001b[0m │  │\n",
       "│ │ \u001b[38;5;141mCRSArrTime              \u001b[0m │ \u001b[36m   0\u001b[0m │ \u001b[36m     0\u001b[0m │ \u001b[36m   1500\u001b[0m │ \u001b[36m   480\u001b[0m │ \u001b[36m      0\u001b[0m │ \u001b[36m  1100\u001b[0m │ \u001b[36m  1900\u001b[0m │ \u001b[36m  2400\u001b[0m │ \u001b[32m ▂▇██▆ \u001b[0m │  │\n",
       "│ │ \u001b[38;5;141mAirTime                 \u001b[0m │ \u001b[36m   0\u001b[0m │ \u001b[36m     0\u001b[0m │ \u001b[36m    100\u001b[0m │ \u001b[36m    77\u001b[0m │ \u001b[36m  -1400\u001b[0m │ \u001b[36m    55\u001b[0m │ \u001b[36m   130\u001b[0m │ \u001b[36m  2000\u001b[0m │ \u001b[32m    █  \u001b[0m │  │\n",
       "│ │ \u001b[38;5;141mArrDelay                \u001b[0m │ \u001b[36m   0\u001b[0m │ \u001b[36m     0\u001b[0m │ \u001b[36m      9\u001b[0m │ \u001b[36m    37\u001b[0m │ \u001b[36m   -690\u001b[0m │ \u001b[36m    -9\u001b[0m │ \u001b[36m    13\u001b[0m │ \u001b[36m  2600\u001b[0m │ \u001b[32m   █   \u001b[0m │  │\n",
       "│ │ \u001b[38;5;141mDepDelay                \u001b[0m │ \u001b[36m   0\u001b[0m │ \u001b[36m     0\u001b[0m │ \u001b[36m     10\u001b[0m │ \u001b[36m    34\u001b[0m │ \u001b[36m  -1200\u001b[0m │ \u001b[36m    -4\u001b[0m │ \u001b[36m     9\u001b[0m │ \u001b[36m  2600\u001b[0m │ \u001b[32m   █   \u001b[0m │  │\n",
       "│ │ \u001b[38;5;141mDistance                \u001b[0m │ \u001b[36m   0\u001b[0m │ \u001b[36m     0\u001b[0m │ \u001b[36m    730\u001b[0m │ \u001b[36m   570\u001b[0m │ \u001b[36m     11\u001b[0m │ \u001b[36m   320\u001b[0m │ \u001b[36m   950\u001b[0m │ \u001b[36m  5000\u001b[0m │ \u001b[32m  █▃▁  \u001b[0m │  │\n",
       "│ │ \u001b[38;5;141mCarrierDelay            \u001b[0m │ \u001b[36m   0\u001b[0m │ \u001b[36m     0\u001b[0m │ \u001b[36m    3.6\u001b[0m │ \u001b[36m    19\u001b[0m │ \u001b[36m      0\u001b[0m │ \u001b[36m     0\u001b[0m │ \u001b[36m     0\u001b[0m │ \u001b[36m  2600\u001b[0m │ \u001b[32m   █   \u001b[0m │  │\n",
       "│ │ \u001b[38;5;141mWeatherDelay            \u001b[0m │ \u001b[36m   0\u001b[0m │ \u001b[36m     0\u001b[0m │ \u001b[36m   0.72\u001b[0m │ \u001b[36m     9\u001b[0m │ \u001b[36m      0\u001b[0m │ \u001b[36m     0\u001b[0m │ \u001b[36m     0\u001b[0m │ \u001b[36m  1500\u001b[0m │ \u001b[32m   █   \u001b[0m │  │\n",
       "│ │ \u001b[38;5;141mNASDelay                \u001b[0m │ \u001b[36m   0\u001b[0m │ \u001b[36m     0\u001b[0m │ \u001b[36m    3.8\u001b[0m │ \u001b[36m    16\u001b[0m │ \u001b[36m    -49\u001b[0m │ \u001b[36m     0\u001b[0m │ \u001b[36m     0\u001b[0m │ \u001b[36m  1400\u001b[0m │ \u001b[32m   █   \u001b[0m │  │\n",
       "│ │ \u001b[38;5;141mSecurityDelay           \u001b[0m │ \u001b[36m   0\u001b[0m │ \u001b[36m     0\u001b[0m │ \u001b[36m  0.026\u001b[0m │ \u001b[36m   1.2\u001b[0m │ \u001b[36m      0\u001b[0m │ \u001b[36m     0\u001b[0m │ \u001b[36m     0\u001b[0m │ \u001b[36m   370\u001b[0m │ \u001b[32m   █   \u001b[0m │  │\n",
       "│ │ \u001b[38;5;141mLateAircraftDelay       \u001b[0m │ \u001b[36m   0\u001b[0m │ \u001b[36m     0\u001b[0m │ \u001b[36m    4.6\u001b[0m │ \u001b[36m    20\u001b[0m │ \u001b[36m      0\u001b[0m │ \u001b[36m     0\u001b[0m │ \u001b[36m     0\u001b[0m │ \u001b[36m  1400\u001b[0m │ \u001b[32m   █   \u001b[0m │  │\n",
       "│ │ \u001b[38;5;141mPlaneAge                \u001b[0m │ \u001b[36m   0\u001b[0m │ \u001b[36m     0\u001b[0m │ \u001b[36m    9.4\u001b[0m │ \u001b[36m   7.3\u001b[0m │ \u001b[36m      0\u001b[0m │ \u001b[36m     4\u001b[0m │ \u001b[36m    14\u001b[0m │ \u001b[36m    51\u001b[0m │ \u001b[32m  █▃▂  \u001b[0m │  │\n",
       "│ └──────────────────────────┴──────┴────────┴─────────┴────────┴─────────┴────────┴────────┴────────┴─────────┘  │\n",
       "╰────────────────────────────────────────────────────── End ──────────────────────────────────────────────────────╯\n"
      ]
     },
     "metadata": {},
     "output_type": "display_data"
    }
   ],
   "source": [
    "# Checking for missing values\n",
    "skim(q5_features)"
   ]
  },
  {
   "attachments": {},
   "cell_type": "markdown",
   "metadata": {},
   "source": [
    "### Randomly sample 200,000 flights from the dataset\n",
    "#### Due to RAM limitations"
   ]
  },
  {
   "cell_type": "code",
   "execution_count": 8,
   "metadata": {},
   "outputs": [],
   "source": [
    "sampled_flights = q5_features.sample(n=200000, random_state=123)"
   ]
  },
  {
   "cell_type": "code",
   "execution_count": 9,
   "metadata": {},
   "outputs": [
    {
     "name": "stdout",
     "output_type": "stream",
     "text": [
      "          Year  Month  DayofMonth  DayOfWeek  DepTime  CRSDepTime  ArrTime  \\\n",
      "1539181   2005      4          14          4   2005.0        2005   2241.0   \n",
      "7666040   2006      7          27          4    751.0         755   1612.0   \n",
      "981720    2005      3           4          5   1200.0        1210   1331.0   \n",
      "15792369  2007     11          11          7   1444.0        1405   1552.0   \n",
      "1541761   2005      4          14          4   1656.0        1700   1810.0   \n",
      "\n",
      "          CRSArrTime  AirTime  ArrDelay  DepDelay  Distance  CarrierDelay  \\\n",
      "1539181         2236    132.0       5.0       0.0       938             0   \n",
      "7666040         1621    298.0      -9.0      -4.0      2586             0   \n",
      "981720          1347     78.0     -16.0     -10.0       499             0   \n",
      "15792369        1535    177.0      17.0      39.0      1371            17   \n",
      "1541761         1824    234.0     -14.0      -4.0      1825             0   \n",
      "\n",
      "          WeatherDelay  NASDelay  SecurityDelay  LateAircraftDelay  PlaneAge  \n",
      "1539181              0         0              0                  0         1  \n",
      "7666040              0         0              0                  0        16  \n",
      "981720               0         0              0                  0         4  \n",
      "15792369             0         0              0                  0         5  \n",
      "1541761              0         0              0                  0         4  \n"
     ]
    }
   ],
   "source": [
    "print(sampled_flights.head())"
   ]
  },
  {
   "attachments": {},
   "cell_type": "markdown",
   "metadata": {},
   "source": [
    "### Splitting train and test set"
   ]
  },
  {
   "cell_type": "code",
   "execution_count": 10,
   "metadata": {},
   "outputs": [],
   "source": [
    "# Features from the dataset\n",
    "features = [\"Year\", \"Month\", \"DayofMonth\", \"DayOfWeek\", \"DepTime\", \"CRSDepTime\", \"ArrTime\", \"CRSArrTime\", \"AirTime\", \"DepDelay\", \"Distance\", \"CarrierDelay\", \"WeatherDelay\", \"NASDelay\", \"SecurityDelay\", \"LateAircraftDelay\", \"PlaneAge\"]\n",
    "X = sampled_flights[features].copy()\n",
    "y = sampled_flights[\"ArrDelay\"].copy()\n",
    "\n",
    "X_train, X_test, y_train, y_test = train_test_split(X, y, test_size = 0.3, random_state = 123)"
   ]
  },
  {
   "attachments": {},
   "cell_type": "markdown",
   "metadata": {},
   "source": [
    "### Pipelines: Pre-Processing Stage"
   ]
  },
  {
   "cell_type": "code",
   "execution_count": 11,
   "metadata": {},
   "outputs": [],
   "source": [
    "numerical_features = [\"Year\", \"Month\", \"DayofMonth\", \"DayOfWeek\", \"DepTime\", \"CRSDepTime\", \"ArrTime\", \"CRSArrTime\", \"AirTime\", \"DepDelay\", \"Distance\", \"CarrierDelay\", \"WeatherDelay\", \"NASDelay\", \"SecurityDelay\", \"LateAircraftDelay\", \"PlaneAge\"]\n",
    "\n",
    "# Applying SimpleImputer and StandardScaler into a pipeline\n",
    "numerical_transformer = Pipeline(steps=[\n",
    "    ('imputer', SimpleImputer()),\n",
    "    ('scaler', StandardScaler())])\n",
    "\n",
    "data_transformer = ColumnTransformer(\n",
    "    transformers=[\n",
    "        ('numerical', numerical_transformer, numerical_features)])"
   ]
  },
  {
   "attachments": {},
   "cell_type": "markdown",
   "metadata": {},
   "source": [
    "### Setting parameters for hyperparameter tuning"
   ]
  },
  {
   "cell_type": "code",
   "execution_count": 12,
   "metadata": {},
   "outputs": [],
   "source": [
    "param_grid = {'data_transformer__numerical__imputer__strategy': ['mean', 'median', 'most_frequent']}"
   ]
  },
  {
   "cell_type": "markdown",
   "metadata": {},
   "source": [
    "### Linear regression model"
   ]
  },
  {
   "cell_type": "code",
   "execution_count": 13,
   "metadata": {},
   "outputs": [],
   "source": [
    "np.random.seed(123) # Set seed for reproducibility\n",
    "\n",
    "# Attaching the learner to the data_transformer\n",
    "pipe_lm = Pipeline(steps=[('data_transformer', data_transformer),\n",
    "('pipe_lm', LinearRegression())])\n",
    "grid_lm = GridSearchCV(pipe_lm, param_grid=param_grid, n_jobs = -1)\n",
    "\n",
    "# Train the linear regression model on the training set\n",
    "grid_lm.fit(X_train, y_train);"
   ]
  },
  {
   "cell_type": "code",
   "execution_count": 14,
   "metadata": {},
   "outputs": [],
   "source": [
    "# Make predictions on the test set using the linear regression model\n",
    "y_predict_lm = grid_lm.predict(X_test)"
   ]
  },
  {
   "cell_type": "code",
   "execution_count": 15,
   "metadata": {},
   "outputs": [
    {
     "data": {
      "image/png": "[encoded data removed]",
      "text/plain": [
       "<Figure size 432x288 with 1 Axes>"
      ]
     },
     "metadata": {
      "needs_background": "light"
     },
     "output_type": "display_data"
    }
   ],
   "source": [
    "# Create a scatter plot of the actual versus predicted values\n",
    "plt.scatter(x=y_predict_lm, y=y_test, color='#d89fb0', marker='o')\n",
    "plt.plot([0, y_test.max()], [0, y_test.max()], color='#976f7b', linestyle='-')\n",
    "plt.xlabel(\"Predicted Arrival Delay (in mins)\")\n",
    "plt.ylabel(\"Actual Arrival Delay (in mins)\")\n",
    "plt.title(\"Figure 5a: Performance of Linear Regression Model\")\n",
    "plt.show()"
   ]
  },
  {
   "cell_type": "code",
   "execution_count": 16,
   "metadata": {},
   "outputs": [
    {
     "data": {
      "image/png": "[encoded data removed]",
      "text/plain": [
       "<Figure size 432x288 with 1 Axes>"
      ]
     },
     "metadata": {
      "needs_background": "light"
     },
     "output_type": "display_data"
    }
   ],
   "source": [
    "# Create a density plot of the residuals (Actual-Predicted)\n",
    "sns.kdeplot(x= y_test - y_predict_lm,\n",
    "            color='#ac7f8c', fill=True, alpha=0.5)\n",
    "plt.title(\"Figure 5b: Density Plot of Residuals of Linear Regression Model\")\n",
    "plt.xlabel(\"Residual (Actual - Predicted)\")\n",
    "plt.ylabel(\"Density\")\n",
    "sns.set_style(\"white\")\n",
    "sns.set_context(\"notebook\", font_scale=1.2)\n",
    "sns.set_palette(\"pastel\")\n",
    "plt.show()"
   ]
  },
  {
   "cell_type": "code",
   "execution_count": 17,
   "metadata": {},
   "outputs": [
    {
     "data": {
      "text/html": [
       "<div>\n",
       "<style scoped>\n",
       "    .dataframe tbody tr th:only-of-type {\n",
       "        vertical-align: middle;\n",
       "    }\n",
       "\n",
       "    .dataframe tbody tr th {\n",
       "        vertical-align: top;\n",
       "    }\n",
       "\n",
       "    .dataframe thead th {\n",
       "        text-align: right;\n",
       "    }\n",
       "</style>\n",
       "<table border=\"1\" class=\"dataframe\">\n",
       "  <thead>\n",
       "    <tr style=\"text-align: right;\">\n",
       "      <th></th>\n",
       "      <th>Linear</th>\n",
       "    </tr>\n",
       "  </thead>\n",
       "  <tbody>\n",
       "    <tr>\n",
       "      <th>RMSE</th>\n",
       "      <td>8.412643</td>\n",
       "    </tr>\n",
       "    <tr>\n",
       "      <th>MSE</th>\n",
       "      <td>70.772562</td>\n",
       "    </tr>\n",
       "    <tr>\n",
       "      <th>MAE</th>\n",
       "      <td>6.441424</td>\n",
       "    </tr>\n",
       "    <tr>\n",
       "      <th>r2</th>\n",
       "      <td>0.950300</td>\n",
       "    </tr>\n",
       "  </tbody>\n",
       "</table>\n",
       "</div>"
      ],
      "text/plain": [
       "         Linear\n",
       "RMSE   8.412643\n",
       "MSE   70.772562\n",
       "MAE    6.441424\n",
       "r2     0.950300"
      ]
     },
     "execution_count": 17,
     "metadata": {},
     "output_type": "execute_result"
    }
   ],
   "source": [
    "# Predict on the training set\n",
    "y_predict_train_lm = grid_lm.predict(X_train)\n",
    "\n",
    "# Calculate evaluation metrics for the training set\n",
    "train_RMSE = np.sqrt(mean_squared_error(y_train, y_predict_train_lm))\n",
    "train_MSE = mean_squared_error(y_train, y_predict_train_lm)\n",
    "train_MAE = mean_absolute_error(y_train, y_predict_train_lm)\n",
    "train_r2 = r2_score(y_train, y_predict_train_lm)\n",
    "\n",
    "# Store evaluation metrics in a DataFrame\n",
    "metrics_lm_train = [train_RMSE, train_MSE, train_MAE, train_r2]\n",
    "metrics_lm_train = pd.DataFrame(metrics_lm_train)\n",
    "metrics_lm_train.index = [\"RMSE\", \"MSE\", \"MAE\", \"r2\"]\n",
    "metrics_lm_train.columns = [\"Linear\"]\n",
    "\n",
    "# Print the evaluation metrics for the training set\n",
    "metrics_lm_train"
   ]
  },
  {
   "cell_type": "code",
   "execution_count": 18,
   "metadata": {},
   "outputs": [
    {
     "data": {
      "text/html": [
       "<div>\n",
       "<style scoped>\n",
       "    .dataframe tbody tr th:only-of-type {\n",
       "        vertical-align: middle;\n",
       "    }\n",
       "\n",
       "    .dataframe tbody tr th {\n",
       "        vertical-align: top;\n",
       "    }\n",
       "\n",
       "    .dataframe thead th {\n",
       "        text-align: right;\n",
       "    }\n",
       "</style>\n",
       "<table border=\"1\" class=\"dataframe\">\n",
       "  <thead>\n",
       "    <tr style=\"text-align: right;\">\n",
       "      <th></th>\n",
       "      <th>Linear</th>\n",
       "    </tr>\n",
       "  </thead>\n",
       "  <tbody>\n",
       "    <tr>\n",
       "      <th>RMSE</th>\n",
       "      <td>8.353368</td>\n",
       "    </tr>\n",
       "    <tr>\n",
       "      <th>MSE</th>\n",
       "      <td>69.778763</td>\n",
       "    </tr>\n",
       "    <tr>\n",
       "      <th>MAE</th>\n",
       "      <td>6.432843</td>\n",
       "    </tr>\n",
       "    <tr>\n",
       "      <th>r2</th>\n",
       "      <td>0.947228</td>\n",
       "    </tr>\n",
       "  </tbody>\n",
       "</table>\n",
       "</div>"
      ],
      "text/plain": [
       "         Linear\n",
       "RMSE   8.353368\n",
       "MSE   69.778763\n",
       "MAE    6.432843\n",
       "r2     0.947228"
      ]
     },
     "execution_count": 18,
     "metadata": {},
     "output_type": "execute_result"
    }
   ],
   "source": [
    "# Evaluation metrics of the model (Based on test set)\n",
    "RMSE = np.sqrt(mean_squared_error(y_test, y_predict_lm)) \n",
    "MSE = mean_squared_error(y_test, y_predict_lm)\n",
    "MAE = mean_absolute_error(y_test, y_predict_lm) \n",
    "r2 = r2_score(y_test, y_predict_lm) \n",
    "metrics_lm = [RMSE, MSE, MAE, r2]\n",
    "metrics_lm = pd.DataFrame(metrics_lm)\n",
    "metrics_lm.index = [\"RMSE\", \"MSE\", \"MAE\", \"r2\"]\n",
    "metrics_lm.columns = [\"Linear\"]\n",
    "metrics_lm"
   ]
  },
  {
   "attachments": {},
   "cell_type": "markdown",
   "metadata": {},
   "source": [
    "### Lasso regression model"
   ]
  },
  {
   "cell_type": "code",
   "execution_count": 19,
   "metadata": {},
   "outputs": [],
   "source": [
    "# Attaching the learner to the data_transformer\n",
    "pipe_lasso = Pipeline(steps=[('data_transformer', data_transformer),\n",
    "('pipe_ridge', Lasso(random_state = 123))])\n",
    "grid_lasso = GridSearchCV(pipe_lasso, param_grid = param_grid, n_jobs = -1)\n",
    "\n",
    "# Train the lasso regression model on the training set\n",
    "grid_lasso.fit(X_train, y_train);"
   ]
  },
  {
   "cell_type": "code",
   "execution_count": 20,
   "metadata": {},
   "outputs": [],
   "source": [
    "# Make predictions on the test set using the lasso regression model\n",
    "y_predict_lasso = grid_lasso.predict(X_test)"
   ]
  },
  {
   "cell_type": "code",
   "execution_count": 21,
   "metadata": {},
   "outputs": [
    {
     "data": {
      "image/png": "[encoded data removed]",
      "text/plain": [
       "<Figure size 432x288 with 1 Axes>"
      ]
     },
     "metadata": {},
     "output_type": "display_data"
    }
   ],
   "source": [
    "# Create a scatter plot of the actual versus predicted values\n",
    "plt.scatter(x=y_predict_lasso, y=y_test, color='#f3dfce', marker='o')\n",
    "plt.plot([0, y_test.max()], [0, y_test.max()], color='#aa9c90', linestyle='-')\n",
    "plt.xlabel(\"Predicted Arrival Delay\")\n",
    "plt.ylabel(\"Actual Arrival Delay\")\n",
    "plt.title(\"Figure 5c: Performance of Lasso Regression Model\")\n",
    "plt.show()"
   ]
  },
  {
   "cell_type": "code",
   "execution_count": 22,
   "metadata": {},
   "outputs": [
    {
     "data": {
      "image/png": "[encoded data removed]",
      "text/plain": [
       "<Figure size 432x288 with 1 Axes>"
      ]
     },
     "metadata": {},
     "output_type": "display_data"
    }
   ],
   "source": [
    "# Create a density plot of the residuals (Actual-Predicted)\n",
    "sns.kdeplot(x= y_test - y_predict_lasso,\n",
    "            color='#f3dfce', fill=True, alpha=0.5)\n",
    "plt.title(\"Figure 5c: Density Plot of Residuals of Lasso Regression Model\")\n",
    "plt.xlabel(\"Residual (Actual - Predicted)\")\n",
    "plt.ylabel(\"Density\")\n",
    "sns.set_style(\"white\")\n",
    "sns.set_context(\"notebook\", font_scale=1.2)\n",
    "sns.set_palette(\"pastel\")\n",
    "plt.show()"
   ]
  },
  {
   "cell_type": "code",
   "execution_count": 23,
   "metadata": {},
   "outputs": [
    {
     "data": {
      "text/html": [
       "<div>\n",
       "<style scoped>\n",
       "    .dataframe tbody tr th:only-of-type {\n",
       "        vertical-align: middle;\n",
       "    }\n",
       "\n",
       "    .dataframe tbody tr th {\n",
       "        vertical-align: top;\n",
       "    }\n",
       "\n",
       "    .dataframe thead th {\n",
       "        text-align: right;\n",
       "    }\n",
       "</style>\n",
       "<table border=\"1\" class=\"dataframe\">\n",
       "  <thead>\n",
       "    <tr style=\"text-align: right;\">\n",
       "      <th></th>\n",
       "      <th>Lasso</th>\n",
       "    </tr>\n",
       "  </thead>\n",
       "  <tbody>\n",
       "    <tr>\n",
       "      <th>RMSE</th>\n",
       "      <td>9.032922</td>\n",
       "    </tr>\n",
       "    <tr>\n",
       "      <th>MSE</th>\n",
       "      <td>81.593687</td>\n",
       "    </tr>\n",
       "    <tr>\n",
       "      <th>MAE</th>\n",
       "      <td>6.911586</td>\n",
       "    </tr>\n",
       "    <tr>\n",
       "      <th>r2</th>\n",
       "      <td>0.942701</td>\n",
       "    </tr>\n",
       "  </tbody>\n",
       "</table>\n",
       "</div>"
      ],
      "text/plain": [
       "          Lasso\n",
       "RMSE   9.032922\n",
       "MSE   81.593687\n",
       "MAE    6.911586\n",
       "r2     0.942701"
      ]
     },
     "execution_count": 23,
     "metadata": {},
     "output_type": "execute_result"
    }
   ],
   "source": [
    "# Predict on the training set\n",
    "y_predict_train_lasso = grid_lasso.predict(X_train)\n",
    "\n",
    "# Calculate evaluation metrics for the training set\n",
    "train_RMSE = np.sqrt(mean_squared_error(y_train, y_predict_train_lasso))\n",
    "train_MSE = mean_squared_error(y_train, y_predict_train_lasso)\n",
    "train_MAE = mean_absolute_error(y_train, y_predict_train_lasso)\n",
    "train_r2 = r2_score(y_train, y_predict_train_lasso)\n",
    "\n",
    "# Store evaluation metrics in a DataFrame\n",
    "metrics_lasso_train = [train_RMSE, train_MSE, train_MAE, train_r2]\n",
    "metrics_lasso_train = pd.DataFrame(metrics_lasso_train)\n",
    "metrics_lasso_train.index = [\"RMSE\", \"MSE\", \"MAE\", \"r2\"]\n",
    "metrics_lasso_train.columns = [\"Lasso\"]\n",
    "\n",
    "# Print the evaluation metrics for the training set\n",
    "metrics_lasso_train"
   ]
  },
  {
   "cell_type": "code",
   "execution_count": 24,
   "metadata": {},
   "outputs": [
    {
     "data": {
      "text/html": [
       "<div>\n",
       "<style scoped>\n",
       "    .dataframe tbody tr th:only-of-type {\n",
       "        vertical-align: middle;\n",
       "    }\n",
       "\n",
       "    .dataframe tbody tr th {\n",
       "        vertical-align: top;\n",
       "    }\n",
       "\n",
       "    .dataframe thead th {\n",
       "        text-align: right;\n",
       "    }\n",
       "</style>\n",
       "<table border=\"1\" class=\"dataframe\">\n",
       "  <thead>\n",
       "    <tr style=\"text-align: right;\">\n",
       "      <th></th>\n",
       "      <th>Lasso</th>\n",
       "    </tr>\n",
       "  </thead>\n",
       "  <tbody>\n",
       "    <tr>\n",
       "      <th>RMSE</th>\n",
       "      <td>8.839547</td>\n",
       "    </tr>\n",
       "    <tr>\n",
       "      <th>MSE</th>\n",
       "      <td>78.137588</td>\n",
       "    </tr>\n",
       "    <tr>\n",
       "      <th>MAE</th>\n",
       "      <td>6.861608</td>\n",
       "    </tr>\n",
       "    <tr>\n",
       "      <th>r2</th>\n",
       "      <td>0.940907</td>\n",
       "    </tr>\n",
       "  </tbody>\n",
       "</table>\n",
       "</div>"
      ],
      "text/plain": [
       "          Lasso\n",
       "RMSE   8.839547\n",
       "MSE   78.137588\n",
       "MAE    6.861608\n",
       "r2     0.940907"
      ]
     },
     "execution_count": 24,
     "metadata": {},
     "output_type": "execute_result"
    }
   ],
   "source": [
    "# Evaluation metrics of the model (Based on test set)\n",
    "RMSE = np.sqrt(mean_squared_error(y_test, y_predict_lasso))\n",
    "MSE = mean_squared_error(y_test, y_predict_lasso) \n",
    "MAE = mean_absolute_error(y_test, y_predict_lasso)\n",
    "r2 = r2_score(y_test, y_predict_lasso) \n",
    "metrics_lasso = [RMSE, MSE, MAE, r2]\n",
    "metrics_lasso = pd.DataFrame(metrics_lasso)\n",
    "metrics_lasso.index = [\"RMSE\", \"MSE\", \"MAE\", \"r2\"]\n",
    "metrics_lasso.columns = [\"Lasso\"]\n",
    "metrics_lasso"
   ]
  },
  {
   "attachments": {},
   "cell_type": "markdown",
   "metadata": {},
   "source": [
    "### Ridge regression model"
   ]
  },
  {
   "cell_type": "code",
   "execution_count": 25,
   "metadata": {},
   "outputs": [],
   "source": [
    "# Attaching the learner to the data_transformer\n",
    "pipe_ridge = Pipeline(steps=[('data_transformer', data_transformer),\n",
    "('pipe_ridge', Ridge(solver = 'saga', random_state = 123))])\n",
    "grid_ridge = GridSearchCV(pipe_ridge, param_grid = param_grid, n_jobs = -1)\n",
    "\n",
    "# Train the ridge regression model on the training set\n",
    "grid_ridge.fit(X_train, y_train);"
   ]
  },
  {
   "cell_type": "code",
   "execution_count": 26,
   "metadata": {},
   "outputs": [],
   "source": [
    "# Make predictions on the test set using the ridge regression model\n",
    "y_predict_ridge = grid_ridge.predict(X_test)"
   ]
  },
  {
   "cell_type": "code",
   "execution_count": 27,
   "metadata": {},
   "outputs": [
    {
     "data": {
      "image/png": "[encoded data removed]",
      "text/plain": [
       "<Figure size 432x288 with 1 Axes>"
      ]
     },
     "metadata": {},
     "output_type": "display_data"
    }
   ],
   "source": [
    "# Create a scatter plot of the actual versus predicted values\n",
    "plt.scatter(x=y_predict_ridge, y=y_test, color='#99a7b6', marker='o')\n",
    "plt.plot([0, y_test.max()], [0, y_test.max()], color='#596672', linestyle='-')\n",
    "plt.xlabel(\"Predicted Arrival Delay (in mins)\")\n",
    "plt.ylabel(\"Actual Arrival Delay (in mins)\")\n",
    "plt.title(\"Figure 5e: Performance of Ridge Regression Model\")\n",
    "plt.show()"
   ]
  },
  {
   "cell_type": "code",
   "execution_count": 28,
   "metadata": {},
   "outputs": [
    {
     "data": {
      "image/png": "[encoded data removed]",
      "text/plain": [
       "<Figure size 432x288 with 1 Axes>"
      ]
     },
     "metadata": {},
     "output_type": "display_data"
    }
   ],
   "source": [
    "# Create a density plot of the residuals (Actual-Predicted)\n",
    "sns.kdeplot(x= y_test - y_predict_ridge,\n",
    "            color='#99a7b6', fill=True, alpha=0.5)\n",
    "plt.title(\"Figure 5f: Density Plot of Residuals for Ridge Regression Model\")\n",
    "plt.xlabel(\"Residual (Actual - Predicted)\")\n",
    "plt.ylabel(\"Density\")\n",
    "sns.set_style(\"white\")\n",
    "sns.set_context(\"notebook\", font_scale=1.2)\n",
    "sns.set_palette(\"pastel\")\n",
    "plt.show()"
   ]
  },
  {
   "cell_type": "code",
   "execution_count": 29,
   "metadata": {},
   "outputs": [
    {
     "data": {
      "text/html": [
       "<div>\n",
       "<style scoped>\n",
       "    .dataframe tbody tr th:only-of-type {\n",
       "        vertical-align: middle;\n",
       "    }\n",
       "\n",
       "    .dataframe tbody tr th {\n",
       "        vertical-align: top;\n",
       "    }\n",
       "\n",
       "    .dataframe thead th {\n",
       "        text-align: right;\n",
       "    }\n",
       "</style>\n",
       "<table border=\"1\" class=\"dataframe\">\n",
       "  <thead>\n",
       "    <tr style=\"text-align: right;\">\n",
       "      <th></th>\n",
       "      <th>Ridge</th>\n",
       "    </tr>\n",
       "  </thead>\n",
       "  <tbody>\n",
       "    <tr>\n",
       "      <th>RMSE</th>\n",
       "      <td>8.412681</td>\n",
       "    </tr>\n",
       "    <tr>\n",
       "      <th>MSE</th>\n",
       "      <td>70.773199</td>\n",
       "    </tr>\n",
       "    <tr>\n",
       "      <th>MAE</th>\n",
       "      <td>6.441840</td>\n",
       "    </tr>\n",
       "    <tr>\n",
       "      <th>r2</th>\n",
       "      <td>0.950300</td>\n",
       "    </tr>\n",
       "  </tbody>\n",
       "</table>\n",
       "</div>"
      ],
      "text/plain": [
       "          Ridge\n",
       "RMSE   8.412681\n",
       "MSE   70.773199\n",
       "MAE    6.441840\n",
       "r2     0.950300"
      ]
     },
     "execution_count": 29,
     "metadata": {},
     "output_type": "execute_result"
    }
   ],
   "source": [
    "# Predict on the training set\n",
    "y_predict_train_ridge = grid_ridge.predict(X_train)\n",
    "\n",
    "# Calculate evaluation metrics for the training set\n",
    "train_RMSE = np.sqrt(mean_squared_error(y_train, y_predict_train_ridge))\n",
    "train_MSE = mean_squared_error(y_train, y_predict_train_ridge)\n",
    "train_MAE = mean_absolute_error(y_train, y_predict_train_ridge)\n",
    "train_r2 = r2_score(y_train, y_predict_train_ridge)\n",
    "\n",
    "# Store evaluation metrics in a DataFrame\n",
    "metrics_ridge_train = [train_RMSE, train_MSE, train_MAE, train_r2]\n",
    "metrics_ridge_train = pd.DataFrame(metrics_ridge_train)\n",
    "metrics_ridge_train.index = [\"RMSE\", \"MSE\", \"MAE\", \"r2\"]\n",
    "metrics_ridge_train.columns = [\"Ridge\"]\n",
    "\n",
    "# Print the evaluation metrics for the training set\n",
    "metrics_ridge_train"
   ]
  },
  {
   "cell_type": "code",
   "execution_count": 30,
   "metadata": {},
   "outputs": [
    {
     "data": {
      "text/html": [
       "<div>\n",
       "<style scoped>\n",
       "    .dataframe tbody tr th:only-of-type {\n",
       "        vertical-align: middle;\n",
       "    }\n",
       "\n",
       "    .dataframe tbody tr th {\n",
       "        vertical-align: top;\n",
       "    }\n",
       "\n",
       "    .dataframe thead th {\n",
       "        text-align: right;\n",
       "    }\n",
       "</style>\n",
       "<table border=\"1\" class=\"dataframe\">\n",
       "  <thead>\n",
       "    <tr style=\"text-align: right;\">\n",
       "      <th></th>\n",
       "      <th>Ridge</th>\n",
       "    </tr>\n",
       "  </thead>\n",
       "  <tbody>\n",
       "    <tr>\n",
       "      <th>RMSE</th>\n",
       "      <td>8.352793</td>\n",
       "    </tr>\n",
       "    <tr>\n",
       "      <th>MSE</th>\n",
       "      <td>69.769150</td>\n",
       "    </tr>\n",
       "    <tr>\n",
       "      <th>MAE</th>\n",
       "      <td>6.433107</td>\n",
       "    </tr>\n",
       "    <tr>\n",
       "      <th>r2</th>\n",
       "      <td>0.947236</td>\n",
       "    </tr>\n",
       "  </tbody>\n",
       "</table>\n",
       "</div>"
      ],
      "text/plain": [
       "          Ridge\n",
       "RMSE   8.352793\n",
       "MSE   69.769150\n",
       "MAE    6.433107\n",
       "r2     0.947236"
      ]
     },
     "execution_count": 30,
     "metadata": {},
     "output_type": "execute_result"
    }
   ],
   "source": [
    "# Evaluation metrics of the model (Based on test set)\n",
    "RMSE = np.sqrt(mean_squared_error(y_test, y_predict_ridge))\n",
    "MSE = mean_squared_error(y_test, y_predict_ridge)\n",
    "MAE = mean_absolute_error(y_test, y_predict_ridge) \n",
    "r2 = r2_score(y_test, y_predict_ridge) \n",
    "metrics_ridge = [RMSE, MSE, MAE, r2]\n",
    "metrics_ridge = pd.DataFrame(metrics_ridge)\n",
    "metrics_ridge.index = [\"RMSE\", \"MSE\", \"MAE\", \"r2\"]\n",
    "metrics_ridge.columns = [\"Ridge\"]\n",
    "metrics_ridge"
   ]
  },
  {
   "attachments": {},
   "cell_type": "markdown",
   "metadata": {},
   "source": [
    "### Random forest"
   ]
  },
  {
   "cell_type": "code",
   "execution_count": 31,
   "metadata": {},
   "outputs": [
    {
     "data": {
      "text/plain": [
       "GridSearchCV(estimator=Pipeline(steps=[('data_transformer',\n",
       "                                        ColumnTransformer(transformers=[('numerical',\n",
       "                                                                         Pipeline(steps=[('imputer',\n",
       "                                                                                          SimpleImputer()),\n",
       "                                                                                         ('scaler',\n",
       "                                                                                          StandardScaler())]),\n",
       "                                                                         ['Year',\n",
       "                                                                          'Month',\n",
       "                                                                          'DayofMonth',\n",
       "                                                                          'DayOfWeek',\n",
       "                                                                          'DepTime',\n",
       "                                                                          'CRSDepTime',\n",
       "                                                                          'ArrTime',\n",
       "                                                                          'CRSArrTime',\n",
       "                                                                          'AirTime',\n",
       "                                                                          'DepDelay',\n",
       "                                                                          'Distance',\n",
       "                                                                          'CarrierDelay',\n",
       "                                                                          'WeatherDelay',\n",
       "                                                                          'NASDelay',\n",
       "                                                                          'SecurityDelay',\n",
       "                                                                          'LateAircraftDelay',\n",
       "                                                                          'PlaneAge'])])),\n",
       "                                       ('rf',\n",
       "                                        RandomForestRegressor(random_state=123))]),\n",
       "             n_jobs=-1,\n",
       "             param_grid={'data_transformer__numerical__imputer__strategy': ['mean',\n",
       "                                                                            'median',\n",
       "                                                                            'most_frequent']})"
      ]
     },
     "execution_count": 31,
     "metadata": {},
     "output_type": "execute_result"
    }
   ],
   "source": [
    "# Attaching the learner to the data_transformer\n",
    "pipe_rf = Pipeline(steps=[('data_transformer', data_transformer),\n",
    "    ('rf', RandomForestRegressor(random_state=123))])\n",
    "# Define the grid search with cross-validation\n",
    "grid_rf = GridSearchCV(pipe_rf, param_grid=param_grid, n_jobs=-1)\n",
    "\n",
    "# Train the random forest model on the training set\n",
    "grid_rf.fit(X_train, y_train)"
   ]
  },
  {
   "cell_type": "code",
   "execution_count": 32,
   "metadata": {},
   "outputs": [],
   "source": [
    "# Make predictions on the test set using the random forest regression model\n",
    "y_predict_rf = grid_rf.predict(X_test)"
   ]
  },
  {
   "cell_type": "code",
   "execution_count": 33,
   "metadata": {},
   "outputs": [
    {
     "data": {
      "image/png": "[encoded data removed]",
      "text/plain": [
       "<Figure size 432x288 with 1 Axes>"
      ]
     },
     "metadata": {},
     "output_type": "display_data"
    }
   ],
   "source": [
    "plt.scatter(x=y_predict_rf, y=y_test, color='#b0d8e2', marker='o')\n",
    "plt.plot([0, y_test.max()], [0, y_test.max()], color='#7b979e', linestyle='-')\n",
    "plt.xlabel(\"Predicted Arrival Delay (in mins)\")\n",
    "plt.ylabel(\"Actual Arrival Delay (in mins)\")\n",
    "plt.title(\"Figure 5g: Performance of Random Forest Model\")\n",
    "plt.show()"
   ]
  },
  {
   "cell_type": "code",
   "execution_count": 34,
   "metadata": {},
   "outputs": [
    {
     "data": {
      "image/png": "[encoded data removed]",
      "text/plain": [
       "<Figure size 432x288 with 1 Axes>"
      ]
     },
     "metadata": {},
     "output_type": "display_data"
    }
   ],
   "source": [
    "# create a density plot of residuals\n",
    "sns.kdeplot(x= y_test - y_predict_ridge,\n",
    "            color='#b0d8e2', fill=True, alpha=0.5)\n",
    "plt.title(\"Figure 5h: Density Plot of Residuals for Random Forest Model\")\n",
    "plt.xlabel(\"Residual (Actual - Predicted)\")\n",
    "plt.ylabel(\"Density\")\n",
    "sns.set_style(\"white\")\n",
    "sns.set_context(\"notebook\", font_scale=1.2)\n",
    "sns.set_palette(\"pastel\")\n",
    "plt.show()"
   ]
  },
  {
   "cell_type": "code",
   "execution_count": 35,
   "metadata": {},
   "outputs": [
    {
     "data": {
      "text/html": [
       "<div>\n",
       "<style scoped>\n",
       "    .dataframe tbody tr th:only-of-type {\n",
       "        vertical-align: middle;\n",
       "    }\n",
       "\n",
       "    .dataframe tbody tr th {\n",
       "        vertical-align: top;\n",
       "    }\n",
       "\n",
       "    .dataframe thead th {\n",
       "        text-align: right;\n",
       "    }\n",
       "</style>\n",
       "<table border=\"1\" class=\"dataframe\">\n",
       "  <thead>\n",
       "    <tr style=\"text-align: right;\">\n",
       "      <th></th>\n",
       "      <th>Random Forest</th>\n",
       "    </tr>\n",
       "  </thead>\n",
       "  <tbody>\n",
       "    <tr>\n",
       "      <th>RMSE</th>\n",
       "      <td>2.759580</td>\n",
       "    </tr>\n",
       "    <tr>\n",
       "      <th>MSE</th>\n",
       "      <td>7.615284</td>\n",
       "    </tr>\n",
       "    <tr>\n",
       "      <th>MAE</th>\n",
       "      <td>1.829372</td>\n",
       "    </tr>\n",
       "    <tr>\n",
       "      <th>r2</th>\n",
       "      <td>0.994652</td>\n",
       "    </tr>\n",
       "  </tbody>\n",
       "</table>\n",
       "</div>"
      ],
      "text/plain": [
       "      Random Forest\n",
       "RMSE       2.759580\n",
       "MSE        7.615284\n",
       "MAE        1.829372\n",
       "r2         0.994652"
      ]
     },
     "execution_count": 35,
     "metadata": {},
     "output_type": "execute_result"
    }
   ],
   "source": [
    "# Predict on the training set\n",
    "y_predict_train_rf = grid_rf.predict(X_train)\n",
    "\n",
    "# Calculate evaluation metrics for the training set\n",
    "train_RMSE = np.sqrt(mean_squared_error(y_train, y_predict_train_rf))\n",
    "train_MSE = mean_squared_error(y_train, y_predict_train_rf) \n",
    "train_MAE = mean_absolute_error(y_train, y_predict_train_rf)\n",
    "train_r2 = r2_score(y_train, y_predict_train_rf)\n",
    "\n",
    "# Store evaluation metrics in a DataFrame\n",
    "metrics_rf_train = [train_RMSE, train_MSE, train_MAE, train_r2]\n",
    "metrics_rf_train = pd.DataFrame(metrics_rf_train)\n",
    "metrics_rf_train.index = [\"RMSE\", \"MSE\", \"MAE\", \"r2\"]\n",
    "metrics_rf_train.columns = [\"Random Forest\"]\n",
    "\n",
    "# Print the evaluation metrics for the training set\n",
    "metrics_rf_train"
   ]
  },
  {
   "cell_type": "code",
   "execution_count": 36,
   "metadata": {},
   "outputs": [
    {
     "data": {
      "text/html": [
       "<div>\n",
       "<style scoped>\n",
       "    .dataframe tbody tr th:only-of-type {\n",
       "        vertical-align: middle;\n",
       "    }\n",
       "\n",
       "    .dataframe tbody tr th {\n",
       "        vertical-align: top;\n",
       "    }\n",
       "\n",
       "    .dataframe thead th {\n",
       "        text-align: right;\n",
       "    }\n",
       "</style>\n",
       "<table border=\"1\" class=\"dataframe\">\n",
       "  <thead>\n",
       "    <tr style=\"text-align: right;\">\n",
       "      <th></th>\n",
       "      <th>Random Forest</th>\n",
       "    </tr>\n",
       "  </thead>\n",
       "  <tbody>\n",
       "    <tr>\n",
       "      <th>RMSE</th>\n",
       "      <td>7.142198</td>\n",
       "    </tr>\n",
       "    <tr>\n",
       "      <th>MSE</th>\n",
       "      <td>51.010998</td>\n",
       "    </tr>\n",
       "    <tr>\n",
       "      <th>MAE</th>\n",
       "      <td>4.892276</td>\n",
       "    </tr>\n",
       "    <tr>\n",
       "      <th>r2</th>\n",
       "      <td>0.961422</td>\n",
       "    </tr>\n",
       "  </tbody>\n",
       "</table>\n",
       "</div>"
      ],
      "text/plain": [
       "      Random Forest\n",
       "RMSE       7.142198\n",
       "MSE       51.010998\n",
       "MAE        4.892276\n",
       "r2         0.961422"
      ]
     },
     "execution_count": 36,
     "metadata": {},
     "output_type": "execute_result"
    }
   ],
   "source": [
    "# Evaluation metrics of the model (Based on test set)\n",
    "RMSE = np.sqrt(mean_squared_error(y_test, y_predict_rf)) \n",
    "MSE = mean_squared_error(y_test, y_predict_rf) \n",
    "MAE = mean_absolute_error(y_test, y_predict_rf) \n",
    "r2 = r2_score(y_test, y_predict_rf) \n",
    "\n",
    "metrics_rf = [RMSE, MSE, MAE, r2]\n",
    "metrics_rf = pd.DataFrame(metrics_rf)\n",
    "metrics_rf.index = [\"RMSE\", \"MSE\", \"MAE\", \"r2\"]\n",
    "metrics_rf.columns = [\"Random Forest\"]\n",
    "metrics_rf"
   ]
  },
  {
   "attachments": {},
   "cell_type": "markdown",
   "metadata": {},
   "source": [
    "### Comparison"
   ]
  },
  {
   "cell_type": "code",
   "execution_count": 37,
   "metadata": {},
   "outputs": [
    {
     "data": {
      "text/html": [
       "<div>\n",
       "<style scoped>\n",
       "    .dataframe tbody tr th:only-of-type {\n",
       "        vertical-align: middle;\n",
       "    }\n",
       "\n",
       "    .dataframe tbody tr th {\n",
       "        vertical-align: top;\n",
       "    }\n",
       "\n",
       "    .dataframe thead th {\n",
       "        text-align: right;\n",
       "    }\n",
       "</style>\n",
       "<table border=\"1\" class=\"dataframe\">\n",
       "  <thead>\n",
       "    <tr style=\"text-align: right;\">\n",
       "      <th></th>\n",
       "      <th>Linear</th>\n",
       "      <th>Lasso</th>\n",
       "      <th>Ridge</th>\n",
       "      <th>Random Forest</th>\n",
       "    </tr>\n",
       "  </thead>\n",
       "  <tbody>\n",
       "    <tr>\n",
       "      <th>RMSE</th>\n",
       "      <td>8.412643</td>\n",
       "      <td>9.032922</td>\n",
       "      <td>8.412681</td>\n",
       "      <td>2.759580</td>\n",
       "    </tr>\n",
       "    <tr>\n",
       "      <th>MSE</th>\n",
       "      <td>70.772562</td>\n",
       "      <td>81.593687</td>\n",
       "      <td>70.773199</td>\n",
       "      <td>7.615284</td>\n",
       "    </tr>\n",
       "    <tr>\n",
       "      <th>MAE</th>\n",
       "      <td>6.441424</td>\n",
       "      <td>6.911586</td>\n",
       "      <td>6.441840</td>\n",
       "      <td>1.829372</td>\n",
       "    </tr>\n",
       "    <tr>\n",
       "      <th>r2</th>\n",
       "      <td>0.950300</td>\n",
       "      <td>0.942701</td>\n",
       "      <td>0.950300</td>\n",
       "      <td>0.994652</td>\n",
       "    </tr>\n",
       "  </tbody>\n",
       "</table>\n",
       "</div>"
      ],
      "text/plain": [
       "         Linear      Lasso      Ridge  Random Forest\n",
       "RMSE   8.412643   9.032922   8.412681       2.759580\n",
       "MSE   70.772562  81.593687  70.773199       7.615284\n",
       "MAE    6.441424   6.911586   6.441840       1.829372\n",
       "r2     0.950300   0.942701   0.950300       0.994652"
      ]
     },
     "execution_count": 37,
     "metadata": {},
     "output_type": "execute_result"
    }
   ],
   "source": [
    "train_metrics_compare = pd.concat([metrics_lm_train, metrics_lasso_train, metrics_ridge_train, metrics_rf_train], axis = 1)\n",
    "train_metrics_compare"
   ]
  },
  {
   "cell_type": "code",
   "execution_count": 38,
   "metadata": {},
   "outputs": [
    {
     "data": {
      "text/html": [
       "<div>\n",
       "<style scoped>\n",
       "    .dataframe tbody tr th:only-of-type {\n",
       "        vertical-align: middle;\n",
       "    }\n",
       "\n",
       "    .dataframe tbody tr th {\n",
       "        vertical-align: top;\n",
       "    }\n",
       "\n",
       "    .dataframe thead th {\n",
       "        text-align: right;\n",
       "    }\n",
       "</style>\n",
       "<table border=\"1\" class=\"dataframe\">\n",
       "  <thead>\n",
       "    <tr style=\"text-align: right;\">\n",
       "      <th></th>\n",
       "      <th>Linear</th>\n",
       "      <th>Lasso</th>\n",
       "      <th>Ridge</th>\n",
       "      <th>Random Forest</th>\n",
       "    </tr>\n",
       "  </thead>\n",
       "  <tbody>\n",
       "    <tr>\n",
       "      <th>RMSE</th>\n",
       "      <td>8.353368</td>\n",
       "      <td>8.839547</td>\n",
       "      <td>8.352793</td>\n",
       "      <td>7.142198</td>\n",
       "    </tr>\n",
       "    <tr>\n",
       "      <th>MSE</th>\n",
       "      <td>69.778763</td>\n",
       "      <td>78.137588</td>\n",
       "      <td>69.769150</td>\n",
       "      <td>51.010998</td>\n",
       "    </tr>\n",
       "    <tr>\n",
       "      <th>MAE</th>\n",
       "      <td>6.432843</td>\n",
       "      <td>6.861608</td>\n",
       "      <td>6.433107</td>\n",
       "      <td>4.892276</td>\n",
       "    </tr>\n",
       "    <tr>\n",
       "      <th>r2</th>\n",
       "      <td>0.947228</td>\n",
       "      <td>0.940907</td>\n",
       "      <td>0.947236</td>\n",
       "      <td>0.961422</td>\n",
       "    </tr>\n",
       "  </tbody>\n",
       "</table>\n",
       "</div>"
      ],
      "text/plain": [
       "         Linear      Lasso      Ridge  Random Forest\n",
       "RMSE   8.353368   8.839547   8.352793       7.142198\n",
       "MSE   69.778763  78.137588  69.769150      51.010998\n",
       "MAE    6.432843   6.861608   6.433107       4.892276\n",
       "r2     0.947228   0.940907   0.947236       0.961422"
      ]
     },
     "execution_count": 38,
     "metadata": {},
     "output_type": "execute_result"
    }
   ],
   "source": [
    "metrics_compare = pd.concat([metrics_lm, metrics_lasso, metrics_ridge, metrics_rf], axis = 1)\n",
    "metrics_compare"
   ]
  },
  {
   "attachments": {},
   "cell_type": "markdown",
   "metadata": {},
   "source": [
    "Based on the provided metrics, it appears that the linear and ridge regression models have very similar performance, with very close values for the RMSE, MSE, MAE and R-squared score. However, the Lasso model has slightly higher values for all of these metrics, indicating that it may not be as well-suited for predicting arrival delays as the other two models.\n",
    "\n",
    "Therefore, between the three models, the linear and ridge regression models seem to be the most well-suited for predicting arrival delays."
   ]
  },
  {
   "cell_type": "markdown",
   "metadata": {},
   "source": [
    "## Close the database connection"
   ]
  },
  {
   "cell_type": "code",
   "execution_count": 39,
   "metadata": {},
   "outputs": [],
   "source": [
    "conn.close()"
   ]
  }
 ],
 "metadata": {
  "kernelspec": {
   "display_name": "base",
   "language": "python",
   "name": "python3"
  },
  "language_info": {
   "codemirror_mode": {
    "name": "ipython",
    "version": 3
   },
   "file_extension": ".py",
   "mimetype": "text/x-python",
   "name": "python",
   "nbconvert_exporter": "python",
   "pygments_lexer": "ipython3",
   "version": "3.9.12"
  },
  "orig_nbformat": 4,
  "vscode": {
   "interpreter": {
    "hash": "96a18e77ae27827d0658b4abadaf0eb52a83b2ab233e5718cf0aa80c6e56a03b"
   }
  }
 },
 "nbformat": 4,
 "nbformat_minor": 2
}
